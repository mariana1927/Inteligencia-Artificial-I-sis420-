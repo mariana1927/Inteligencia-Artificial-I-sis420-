{
  "nbformat": 4,
  "nbformat_minor": 0,
  "metadata": {
    "colab": {
      "name": "Pregunta 2.ipynb",
      "provenance": []
    },
    "kernelspec": {
      "name": "python3",
      "display_name": "Python 3"
    },
    "language_info": {
      "name": "python"
    }
  },
  "cells": [
    {
      "cell_type": "code",
      "source": [
        "#Pregunta 2 del Segundo Parcial de Inteligencia Artificial (sis420)\n",
        "#Estudiante: Ortube Rengel Erika Mariana\n",
        "#Carrera: Ing. Sistemas"
      ],
      "metadata": {
        "id": "lRo07eM16H0H"
      },
      "execution_count": null,
      "outputs": []
    },
    {
      "cell_type": "code",
      "execution_count": 73,
      "metadata": {
        "colab": {
          "base_uri": "https://localhost:8080/"
        },
        "id": "5Xp-30IHsWHw",
        "outputId": "b04bb68c-c0ea-4304-fa1a-0d993436ac19"
      },
      "outputs": [
        {
          "output_type": "stream",
          "name": "stdout",
          "text": [
            "Drive already mounted at /content/drive; to attempt to forcibly remount, call drive.mount(\"/content/drive\", force_remount=True).\n"
          ]
        }
      ],
      "source": [
        "from google.colab import drive\n",
        "drive.mount('/content/drive')"
      ]
    },
    {
      "cell_type": "code",
      "source": [
        "# utilizado para la manipulación de directorios y rutas\n",
        "import os\n",
        "\n",
        "# Cálculo científico y vectorial para python\n",
        "import numpy as np\n",
        "\n",
        "#libreria para graficos\n",
        "from matplotlib import pyplot\n",
        "\n",
        "#modulo de optimizacion en scipy\n",
        "from scipy import optimize\n",
        "\n",
        "#le dice a matplotlib que incruste gráficos en el cuaderno\n",
        "%matplotlib inline"
      ],
      "metadata": {
        "id": "7XoQCk_CsiS6"
      },
      "execution_count": 74,
      "outputs": []
    },
    {
      "cell_type": "code",
      "source": [
        "#los datos se cargan en formato txt\n",
        "data = np.loadtxt('/content/drive/MyDrive/ecoli.csv', delimiter=',', dtype=str)\n",
        "\n",
        "#hay 8 clases en formato string y se reemplaza los datos por numeros:\n",
        "#cp = 1 | im = 2 | pp = 3 | imU = 4 | om = 5 | omL = 6 | imL = 7 | imS = 8\n",
        "new_Data = np.where(data[:,0:8]=='cp', 1,data[:,0:8])\n",
        "new_Data = np.where(new_Data[:,0:8]=='im', 2,new_Data[:,0:8])\n",
        "new_Data = np.where(new_Data[:,0:8]=='pp', 3,new_Data[:,0:8])\n",
        "new_Data = np.where(new_Data[:,0:8]=='imU', 4,new_Data[:,0:8])\n",
        "new_Data = np.where(new_Data[:,0:8]=='om', 5,new_Data[:,0:8])\n",
        "new_Data = np.where(new_Data[:,0:8]=='omL', 6,new_Data[:,0:8])\n",
        "new_Data = np.where(new_Data[:,0:8]=='imL', 7,new_Data[:,0:8])\n",
        "new_Data = np.where(new_Data[:,0:8]=='imS', 8,new_Data[:,0:8])"
      ],
      "metadata": {
        "id": "QxgoO60otUOd"
      },
      "execution_count": 75,
      "outputs": []
    },
    {
      "cell_type": "code",
      "source": [
        "#los datos se cargan en formato txt, pero ya son de prueba 'test'\n",
        "data_test = np.loadtxt('/content/drive/MyDrive/ecoli.csv', delimiter=',', dtype=str)\n",
        "\n",
        "#hay 8 clases en formato string y se reemplaza los datos por numeros:\n",
        "#cp = 1 | im = 2 | pp = 3 | imU = 4 | om = 5 | omL = 6 | imL = 7 | imS = 8\n",
        "new_Data_test = np.where(data_test[:,0:8]=='cp', 1,data_test[:,0:8])\n",
        "new_Data_test = np.where(new_Data_test[:,0:8]=='im', 2,new_Data_test[:,0:8])\n",
        "new_Data_test = np.where(new_Data_test[:,0:8]=='pp', 3,new_Data_test[:,0:8])\n",
        "new_Data_test = np.where(new_Data_test[:,0:8]=='imU', 4,new_Data_test[:,0:8])\n",
        "new_Data_test = np.where(new_Data_test[:,0:8]=='om', 5,new_Data_test[:,0:8])\n",
        "new_Data_test = np.where(new_Data_test[:,0:8]=='omL', 6,new_Data_test[:,0:8])\n",
        "new_Data_test = np.where(new_Data_test[:,0:8]=='imL', 7,new_Data_test[:,0:8])\n",
        "new_Data_test = np.where(new_Data_test[:,0:8]=='imS', 8,new_Data_test[:,0:8])"
      ],
      "metadata": {
        "id": "8MUxnPadvSB_"
      },
      "execution_count": 76,
      "outputs": []
    },
    {
      "cell_type": "code",
      "source": [
        "#resultado de cambiar las clases a numeros\n",
        "#y son las proteinas\n",
        "#cp = 1 | im = 2 | pp = 3 | imU = 4 | om = 5 | omL = 6 | imL = 7 | imS = 8\n",
        "y = new_Data[:,7]\n",
        "y_test = new_Data_test[:,7]\n",
        "print(y.shape)\n",
        "print(y)"
      ],
      "metadata": {
        "colab": {
          "base_uri": "https://localhost:8080/"
        },
        "id": "Tan9ZzmOwEtA",
        "outputId": "76fd0879-1736-47ff-ae42-e91a55f560df"
      },
      "execution_count": 77,
      "outputs": [
        {
          "output_type": "stream",
          "name": "stdout",
          "text": [
            "(336,)\n",
            "['1' '1' '1' '1' '1' '1' '1' '1' '1' '1' '1' '1' '1' '1' '1' '1' '1' '1'\n",
            " '1' '1' '1' '1' '1' '1' '1' '1' '1' '1' '1' '1' '1' '1' '1' '1' '1' '1'\n",
            " '1' '1' '1' '1' '1' '1' '1' '1' '1' '1' '1' '1' '1' '1' '1' '1' '1' '1'\n",
            " '1' '1' '1' '1' '1' '1' '1' '1' '1' '1' '1' '1' '1' '1' '1' '1' '1' '1'\n",
            " '1' '1' '1' '1' '1' '1' '1' '1' '1' '1' '1' '1' '1' '1' '1' '1' '1' '1'\n",
            " '1' '1' '1' '1' '1' '1' '1' '1' '1' '1' '1' '1' '1' '1' '1' '1' '1' '1'\n",
            " '1' '1' '1' '1' '1' '1' '1' '1' '1' '1' '1' '1' '1' '1' '1' '1' '1' '1'\n",
            " '1' '1' '1' '1' '1' '1' '1' '1' '1' '1' '1' '1' '1' '1' '1' '1' '1' '2'\n",
            " '2' '2' '2' '2' '2' '2' '2' '2' '2' '2' '2' '2' '2' '2' '2' '2' '2' '2'\n",
            " '2' '2' '2' '2' '2' '2' '2' '2' '2' '2' '2' '2' '2' '2' '2' '2' '2' '2'\n",
            " '2' '2' '2' '2' '2' '2' '2' '2' '2' '2' '2' '2' '2' '2' '2' '2' '2' '2'\n",
            " '2' '2' '2' '2' '2' '2' '2' '2' '2' '2' '2' '2' '2' '2' '2' '2' '2' '2'\n",
            " '2' '2' '2' '2' '8' '8' '7' '7' '4' '4' '4' '4' '4' '4' '4' '4' '4' '4'\n",
            " '4' '4' '4' '4' '4' '4' '4' '4' '4' '4' '4' '4' '4' '4' '4' '4' '4' '4'\n",
            " '4' '4' '4' '4' '4' '4' '4' '5' '5' '5' '5' '5' '5' '5' '5' '5' '5' '5'\n",
            " '5' '5' '5' '5' '5' '5' '5' '5' '5' '6' '6' '6' '6' '6' '3' '3' '3' '3'\n",
            " '3' '3' '3' '3' '3' '3' '3' '3' '3' '3' '3' '3' '3' '3' '3' '3' '3' '3'\n",
            " '3' '3' '3' '3' '3' '3' '3' '3' '3' '3' '3' '3' '3' '3' '3' '3' '3' '3'\n",
            " '3' '3' '3' '3' '3' '3' '3' '3' '3' '3' '3' '3']\n"
          ]
        }
      ]
    },
    {
      "cell_type": "code",
      "source": [
        "#resultado de cargar los datos pero con 7 columnas\n",
        "#X son los atributos\n",
        "X = new_Data[:,0:7]\n",
        "X_test = new_Data_test[:,0:7]\n",
        "print(X.shape)\n",
        "print(X)"
      ],
      "metadata": {
        "colab": {
          "base_uri": "https://localhost:8080/"
        },
        "id": "ClsKBJrow0T0",
        "outputId": "6a63b6a1-355b-40f0-cb53-dbd04383932b"
      },
      "execution_count": 78,
      "outputs": [
        {
          "output_type": "stream",
          "name": "stdout",
          "text": [
            "(336, 7)\n",
            "[['0.49' '0.29' '0.48' ... '0.56' '0.24' '0.35']\n",
            " ['0.07' '0.40' '0.48' ... '0.54' '0.35' '0.44']\n",
            " ['0.56' '0.40' '0.48' ... '0.49' '0.37' '0.46']\n",
            " ...\n",
            " ['0.61' '0.60' '0.48' ... '0.44' '0.39' '0.38']\n",
            " ['0.59' '0.61' '0.48' ... '0.42' '0.42' '0.37']\n",
            " ['0.74' '0.74' '0.48' ... '0.31' '0.53' '0.52']]\n"
          ]
        }
      ]
    },
    {
      "cell_type": "code",
      "source": [
        "#np.asarray() = convierte una estructura de datos en un array NumPy\n",
        "#dtype = describe cómo se deben interpretar los bytes en el bloque de memoria de tamaño fijo correspondiente a un elemento de la matriz\n",
        "#np.float64() = suelen ser números de punto flotante de 64 bits\n",
        "\n",
        "#convertimos los datos de X & y a punto flotante\n",
        "X = np.asarray(X, dtype=np.float64)\n",
        "y = np.asarray(y, dtype=np.float64)\n",
        "\n",
        "#datos para tomarlos como prueba, 'test'\n",
        "X_test = np.asarray(X_test, dtype=np.float64)\n",
        "y_test = np.asarray(y_test, dtype=np.float64)"
      ],
      "metadata": {
        "id": "m89LYrpryDX8"
      },
      "execution_count": 79,
      "outputs": []
    },
    {
      "cell_type": "code",
      "source": [
        "#se define la cantidad de clases que hay\n",
        "input_layer_size  = 7\n",
        "\n",
        "#10 etiquetas, de 1 a 10 (tomar en cuenta que se asigna \"0\" a la etiqueta 10)\n",
        "num_labels = 10\n",
        "\n",
        "m = y.size"
      ],
      "metadata": {
        "colab": {
          "base_uri": "https://localhost:8080/"
        },
        "id": "HhgKxPCWzxV_",
        "outputId": "7cabbe4a-7f27-410d-de74-31001d76c7fa"
      },
      "execution_count": 92,
      "outputs": [
        {
          "output_type": "stream",
          "name": "stdout",
          "text": [
            "336\n"
          ]
        }
      ]
    },
    {
      "cell_type": "code",
      "source": [
        "#valores de prueba para los parámetros 'theta'\n",
        "theta_t = np.array([2, 1, -1, -2], dtype=float)\n",
        "\n",
        "#valores de prueba para las entradas\n",
        "X_t = np.concatenate([np.ones((5, 1)), np.arange(1, 16).reshape(5, 3, order='F')/10.0], axis=1)\n",
        "\n",
        "#valores de testeo para las etiquetas\n",
        "y_t = np.array([1, 0, 1, 0, 1])\n",
        "\n",
        "#valores de testeo para el parametro de regularizacion\n",
        "lambda_t = 3"
      ],
      "metadata": {
        "id": "RGMrqJKt21YE"
      },
      "execution_count": 81,
      "outputs": []
    },
    {
      "cell_type": "code",
      "source": [
        "#definicion de funcion que calcula la sigmoide de 'z'\n",
        "def sigmoid(z):\n",
        "    return 1.0 / (1.0 + np.exp(-z))"
      ],
      "metadata": {
        "id": "DMzDwQli0Hp_"
      },
      "execution_count": 82,
      "outputs": []
    },
    {
      "cell_type": "code",
      "source": [
        "#defincion de funcion que calcula el costo de usar theta como parámetro\n",
        "def lrCostFunction(theta, X, y, lambda_):\n",
        "    \"\"\"\n",
        "      Parametros\n",
        "          theta: array_like\n",
        "              Parametro theta de la regresion logistica. Vector de la forma(shape) (n, ).\n",
        "              n es el numero de caracteristicas incluida la intercepcion\n",
        "\n",
        "          X: array_like\n",
        "              Dataset con la forma(shape) (m x n); m es el numero de ejemplos\n",
        "              n es el numero de caracteristicas incluida la intercepcion\n",
        "          \n",
        "          y: array_like\n",
        "              Conjunto de etiquetas. Un vector con la forma (shape) (m, ).\n",
        "              m es el numero de ejemplos\n",
        "          \n",
        "          lambda_: float\n",
        "              Parametro de regularización. \n",
        "        \n",
        "      Devuelve\n",
        "          J: float\n",
        "              El valor calculado para la funcion de costo regularizada. \n",
        "          \n",
        "          grad: array_like\n",
        "              Un vector de la forma (shape) (n, ) que es el gradiente de la \n",
        "              función de costo con respecto a theta, en los valores actuales de theta.\n",
        "    \"\"\"\n",
        "    #inicializamos algunos valores utiles\n",
        "    m = y.size\n",
        "    \n",
        "    #convierte las etiquetas a valores enteros si son booleanos\n",
        "    if y.dtype == bool:\n",
        "        y = y.astype(int)\n",
        "    \n",
        "    J = 0\n",
        "    grad = np.zeros(theta.shape)\n",
        "    \n",
        "    h = sigmoid(X.dot(theta.T))\n",
        "    \n",
        "    temp = theta\n",
        "    temp[0] = 0\n",
        "\n",
        "    J = (1 / m) * np.sum(-y.dot(np.log(h)) - (1 - y).dot(np.log(1 - h))) + (lambda_ / (2 * m)) * np.sum(np.square(temp))\n",
        "    \n",
        "    grad = (1 / m) * (h - y).dot(X) \n",
        "\n",
        "    grad = grad + (lambda_ / m) * temp\n",
        "\n",
        "    return J, grad"
      ],
      "metadata": {
        "id": "oD7T7Ase0aqP"
      },
      "execution_count": 83,
      "outputs": []
    },
    {
      "cell_type": "code",
      "source": [
        "J, grad = lrCostFunction(theta_t, X_t, y_t, lambda_t)\n",
        "\n",
        "print('Costo: {:.6f}'.format(J)) #parametro\n",
        "print('Costo esperado: 2.543819') #hiper parametro\n",
        "print('---------------------------------------------')\n",
        "print('Gradientes:')\n",
        "print(' [{:.6f}, {:.6f}, {:.6f}, {:.6f}]'.format(*grad)) #hiper parametro\n",
        "print('Gradientes esperados:')\n",
        "print(' [0.146561, -0.548558, 0.724722, 1.398003]') #hiper parametro"
      ],
      "metadata": {
        "colab": {
          "base_uri": "https://localhost:8080/"
        },
        "id": "vgVU0jAG28Qs",
        "outputId": "ce9ef6df-1972-46e7-e10a-9337b006a98b"
      },
      "execution_count": 91,
      "outputs": [
        {
          "output_type": "stream",
          "name": "stdout",
          "text": [
            "Costo: 3.705728\n",
            "Costo esperado: 2.543819\n",
            "---------------------------------------------\n",
            "Gradientes:\n",
            " [-0.555376, 0.431709, -1.045979, -1.923668]\n",
            "Gradientes esperados:\n",
            " [0.146561, -0.548558, 0.724722, 1.398003]\n"
          ]
        }
      ]
    },
    {
      "cell_type": "code",
      "source": [
        "#defincion de funcion para la regresion logistica multiclase \"One vs All\"\n",
        "#que entrena num_labels clasificadores de regresión logística y devoluciones\n",
        "#cada uno de estos clasificadores en una matriz all_theta, donde la i-ésima fila de all_theta corresponde al clasificador para la etiqueta i. \n",
        "def oneVsAll(X, y, num_labels, lambda_):\n",
        "    \"\"\"\n",
        "    Parametros\n",
        "        X: array_like\n",
        "            El conjunto de datos de entrada de forma (m x n); m es el número de ejemplos\n",
        "            n es el número de características.\n",
        "        \n",
        "        y: array_like\n",
        "            Las etiquetas de datos. Un vector de forma (m, ).\n",
        "        \n",
        "        num_labels: int\n",
        "            Número de etiquetas posibles.\n",
        "        \n",
        "        lambda_: float\n",
        "            El parámetro de regularización logística.\n",
        "    \n",
        "    Devuelve\n",
        "        all_theta: array_like\n",
        "            Los parámetros entrenados para la regresión logística para cada clase.\n",
        "            Esta es una matriz de forma (K x n+1) donde K es el número de clases\n",
        "            (es decir, num_labels) y n es el número de características sin el sesgo.\n",
        "    \"\"\"\n",
        "    #algunas variables utiles\n",
        "    m, n = X.shape\n",
        "    \n",
        "    all_theta = np.zeros((num_labels, n + 1))\n",
        "\n",
        "    #agrega 1's a la matriz 'X'\n",
        "    X = np.concatenate([np.ones((m, 1)), X], axis=1)\n",
        "\n",
        "    for c in np.arange(num_labels):\n",
        "        initial_theta = np.zeros(n + 1)\n",
        "        options = {'maxiter': 50}\n",
        "        res = optimize.minimize(lrCostFunction, \n",
        "                                initial_theta, \n",
        "                                (X, (y == c), lambda_), \n",
        "                                jac=True, \n",
        "                                method='CG',\n",
        "                                options=options)\n",
        "        all_theta[c] = res.x\n",
        "\n",
        "    return all_theta"
      ],
      "metadata": {
        "id": "WUbjLtmh1T7q"
      },
      "execution_count": 85,
      "outputs": []
    },
    {
      "cell_type": "code",
      "source": [
        "lambda_ = 0.1\n",
        "all_theta = oneVsAll(X, y, num_labels, lambda_)\n",
        "print(all_theta.shape)"
      ],
      "metadata": {
        "colab": {
          "base_uri": "https://localhost:8080/"
        },
        "id": "rEcxCEtj1mYQ",
        "outputId": "18e9c304-f070-4ab2-c9b3-a1a80a2f6cb7"
      },
      "execution_count": 86,
      "outputs": [
        {
          "output_type": "stream",
          "name": "stdout",
          "text": [
            "(10, 8)\n"
          ]
        }
      ]
    },
    {
      "cell_type": "code",
      "source": [
        "#definicion de funcion que devuelve un vector de predicciones para cada ejemplo en la matriz X\n",
        "#tener en cuenta que 'X' contiene los ejemplos en filas\n",
        "#all_theta es una matriz donde la i-ésima fila es un vector theta de regresión logística entrenada para la i-ésima clase\n",
        "#se debe establecer p en un vector de valores de 0..K-1 (por ejemplo, p = [0, 2, 0, 1]; predice clases 0, 2, 0, 1 para 4 ejemplos).\n",
        "def predictOneVsAll(all_theta, X):\n",
        "    \"\"\"\n",
        "      Parametros\n",
        "          all_theta: array_like\n",
        "              Los parámetros entrenados para la regresión logística para cada clase.\n",
        "              Esta es una matriz de forma (K x n+1) donde K es el número de clases\n",
        "              y n es el número de características sin el sesgo.\n",
        "\n",
        "          X: array_like\n",
        "              Puntos de datos para predecir sus etiquetas. Esta es una matriz de forma (m x n);\n",
        "              m es el número de puntos de datos para predecir, y n es el número de características sin el término de sesgo.\n",
        "              Tener en cuenta que se agrega el término de sesgo para 'X' en esta función.\n",
        "              \n",
        "      Devuelve\n",
        "          p: array_like\n",
        "              Las predicciones para cada punto de datos en 'X'. Este es un vector de forma (m, ).\n",
        "    \"\"\" \n",
        "    m = X.shape[0];\n",
        "    num_labels = all_theta.shape[0]\n",
        "\n",
        "    p = np.zeros(m)\n",
        "\n",
        "    #agrega 1's a la matriz de datos 'X'\n",
        "    X = np.concatenate([np.ones((m, 1)), X], axis=1)\n",
        "    p = np.argmax(sigmoid(X.dot(all_theta.T)), axis = 1)\n",
        "\n",
        "    return p"
      ],
      "metadata": {
        "id": "ACNj-o_V1wEJ"
      },
      "execution_count": 87,
      "outputs": []
    },
    {
      "cell_type": "code",
      "source": [
        "print(X.shape)\n",
        "pred = predictOneVsAll(all_theta, X)\n",
        "print('Precision del conjuto de entrenamiento: {:.2f}%'.format(np.mean(pred == y) * 100))"
      ],
      "metadata": {
        "colab": {
          "base_uri": "https://localhost:8080/"
        },
        "id": "4lrGUFgq1-9p",
        "outputId": "695e75ca-ebb5-4a71-b12a-f16212534dda"
      },
      "execution_count": 88,
      "outputs": [
        {
          "output_type": "stream",
          "name": "stdout",
          "text": [
            "(336, 7)\n",
            "Precision del conjuto de entrenamiento: 89.88%\n"
          ]
        }
      ]
    }
  ]
}