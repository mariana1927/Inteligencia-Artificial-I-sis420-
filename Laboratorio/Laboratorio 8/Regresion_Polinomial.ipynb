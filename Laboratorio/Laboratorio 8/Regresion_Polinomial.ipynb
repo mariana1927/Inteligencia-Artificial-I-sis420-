{
  "nbformat": 4,
  "nbformat_minor": 0,
  "metadata": {
    "colab": {
      "name": "regresion_polinomica.ipynb",
      "provenance": []
    },
    "kernelspec": {
      "name": "python3",
      "display_name": "Python 3"
    },
    "language_info": {
      "name": "python"
    }
  },
  "cells": [
    {
      "cell_type": "code",
      "execution_count": 118,
      "metadata": {
        "colab": {
          "base_uri": "https://localhost:8080/"
        },
        "id": "Ykf7ZtBUU0qr",
        "outputId": "a477d943-b59b-4c05-d313-a728a2a1b82f"
      },
      "outputs": [
        {
          "output_type": "stream",
          "name": "stdout",
          "text": [
            "Drive already mounted at /content/gdrive; to attempt to forcibly remount, call drive.mount(\"/content/gdrive\", force_remount=True).\n"
          ]
        }
      ],
      "source": [
        "from google.colab import drive\n",
        "drive.mount(\"/content/gdrive\")"
      ]
    },
    {
      "cell_type": "code",
      "source": [
        "#utilizado para manejos de directorios y rutas\n",
        "import os\n",
        "\n",
        "#Computacion vectorial y cientifica para python\n",
        "import numpy as np\n",
        "\n",
        "#Librerias para graficación\n",
        "from matplotlib import pyplot\n",
        "# Necesario para graficar superficies 3D\n",
        "from mpl_toolkits.mplot3d import Axes3D\n",
        "\n",
        "#llama a matplotlib a embeber graficas dentro de los cuadernillos\n",
        "%matplotlib inline"
      ],
      "metadata": {
        "id": "S_01kytsU6F6"
      },
      "execution_count": 119,
      "outputs": []
    },
    {
      "cell_type": "code",
      "source": [
        "#Cargar y leer datos\n",
        "data = np.loadtxt('/content/gdrive/MyDrive/regresion_polinomial.csv', delimiter=\";\",skiprows=1)\n",
        "#print(data)\n",
        "X = data[:, :1]\n",
        "y = data[:, 1]\n",
        "m = y.size\n",
        "\n",
        "for i in range(26):\n",
        "    print('{:8.0f}{:10.0f}'.format(X[i, 0], y[i]))"
      ],
      "metadata": {
        "colab": {
          "base_uri": "https://localhost:8080/"
        },
        "id": "ch_D2G_XU7rJ",
        "outputId": "75c3c6a5-cc13-446c-9c07-1cd6d15a29c1"
      },
      "execution_count": 120,
      "outputs": [
        {
          "output_type": "stream",
          "name": "stdout",
          "text": [
            "       2        36\n",
            "       5       114\n",
            "       4       119\n",
            "       5        94\n",
            "       2        43\n",
            "       3        73\n",
            "       1        17\n",
            "       2        56\n",
            "       5       115\n",
            "       2        51\n",
            "       4       114\n",
            "       2        41\n",
            "       5       150\n",
            "       3        47\n",
            "       2        42\n",
            "       4        98\n",
            "       4       118\n",
            "       2        45\n",
            "       2        45\n",
            "       3        70\n",
            "       2        56\n",
            "       1        26\n",
            "       5       119\n",
            "       4        77\n",
            "       5       134\n",
            "       5       145\n"
          ]
        }
      ]
    },
    {
      "cell_type": "code",
      "source": [
        "#definicion de funcion que grafica los puntos x & y\n",
        "def plotData(x, y):\n",
        "    #abre una nueva figura\n",
        "    fig = pyplot.figure()  \n",
        "    \n",
        "    pyplot.plot(x, y, 'ro', ms=10, mec='k')\n",
        "    pyplot.ylabel('Cantidad')\n",
        "    pyplot.xlabel('Costo Bubble Tea 1,000s')"
      ],
      "metadata": {
        "id": "oMUAY5wnV-X3"
      },
      "execution_count": 121,
      "outputs": []
    },
    {
      "cell_type": "code",
      "source": [
        "plotData(X, y)"
      ],
      "metadata": {
        "colab": {
          "base_uri": "https://localhost:8080/",
          "height": 279
        },
        "id": "fEx1pQetWA76",
        "outputId": "29219784-b998-4d4a-9f97-d8528aad04b1"
      },
      "execution_count": 122,
      "outputs": [
        {
          "output_type": "display_data",
          "data": {
            "text/plain": [
              "<Figure size 432x288 with 1 Axes>"
            ],
            "image/png": "[encoded data removed]"
          },
          "metadata": {
            "needs_background": "light"
          }
        }
      ]
    },
    {
      "cell_type": "code",
      "source": [
        "X = np.concatenate([X, X * X], axis=1)"
      ],
      "metadata": {
        "id": "vRtV5UgIWJBw"
      },
      "execution_count": 123,
      "outputs": []
    },
    {
      "cell_type": "code",
      "source": [
        "print(X)"
      ],
      "metadata": {
        "colab": {
          "base_uri": "https://localhost:8080/"
        },
        "id": "MOHqEasoWMEf",
        "outputId": "f4d56dd9-8ef3-4f19-b538-82145584bbc1"
      },
      "execution_count": 124,
      "outputs": [
        {
          "output_type": "stream",
          "name": "stdout",
          "text": [
            "[[ 2.  4.]\n",
            " [ 5. 25.]\n",
            " [ 4. 16.]\n",
            " [ 5. 25.]\n",
            " [ 2.  4.]\n",
            " [ 3.  9.]\n",
            " [ 1.  1.]\n",
            " [ 2.  4.]\n",
            " [ 5. 25.]\n",
            " [ 2.  4.]\n",
            " [ 4. 16.]\n",
            " [ 2.  4.]\n",
            " [ 5. 25.]\n",
            " [ 3.  9.]\n",
            " [ 2.  4.]\n",
            " [ 4. 16.]\n",
            " [ 4. 16.]\n",
            " [ 2.  4.]\n",
            " [ 2.  4.]\n",
            " [ 3.  9.]\n",
            " [ 2.  4.]\n",
            " [ 1.  1.]\n",
            " [ 5. 25.]\n",
            " [ 4. 16.]\n",
            " [ 5. 25.]\n",
            " [ 5. 25.]\n",
            " [ 3.  9.]\n",
            " [ 5. 25.]\n",
            " [ 1.  1.]\n",
            " [ 1.  1.]\n",
            " [ 2.  4.]\n",
            " [ 2.  4.]\n",
            " [ 4. 16.]\n",
            " [ 4. 16.]\n",
            " [ 4. 16.]\n",
            " [ 4. 16.]\n",
            " [ 3.  9.]\n",
            " [ 4. 16.]\n",
            " [ 5. 25.]\n",
            " [ 1.  1.]\n",
            " [ 5. 25.]\n",
            " [ 2.  4.]\n",
            " [ 2.  4.]\n",
            " [ 5. 25.]\n",
            " [ 4. 16.]\n",
            " [ 5. 25.]\n",
            " [ 2.  4.]\n",
            " [ 4. 16.]\n",
            " [ 4. 16.]\n",
            " [ 3.  9.]\n",
            " [ 3.  9.]\n",
            " [ 2.  4.]\n",
            " [ 1.  1.]\n",
            " [ 4. 16.]\n",
            " [ 5. 25.]\n",
            " [ 5. 25.]]\n"
          ]
        }
      ]
    },
    {
      "cell_type": "code",
      "source": [
        "#definicion de funcion que calcula la desviacion estandar\n",
        "def  featureNormalize(X):\n",
        "    X_norm = X.copy()\n",
        "    mu = np.zeros(X.shape[1])\n",
        "    sigma = np.zeros(X.shape[1])\n",
        "\n",
        "    mu = np.mean(X, axis = 0)\n",
        "    sigma = np.std(X, axis = 0)\n",
        "    X_norm = (X - mu) / sigma\n",
        "    \n",
        "    return X_norm, mu, sigma"
      ],
      "metadata": {
        "id": "VUbDFcg6WOOw"
      },
      "execution_count": 125,
      "outputs": []
    },
    {
      "cell_type": "code",
      "source": [
        "#llama featureNormalize con los datos cargados\n",
        "X_norm, mu, sigma = featureNormalize(X)"
      ],
      "metadata": {
        "id": "JFbaAa6KWO0T"
      },
      "execution_count": 126,
      "outputs": []
    },
    {
      "cell_type": "code",
      "source": [
        "plotData(X_norm, y)"
      ],
      "metadata": {
        "colab": {
          "base_uri": "https://localhost:8080/",
          "height": 279
        },
        "id": "oh71mvEJWXQV",
        "outputId": "798c3e3d-7649-4844-a493-eb553060822f"
      },
      "execution_count": 127,
      "outputs": [
        {
          "output_type": "display_data",
          "data": {
            "text/plain": [
              "<Figure size 432x288 with 1 Axes>"
            ],
            "image/png": "[encoded data removed]"
          },
          "metadata": {
            "needs_background": "light"
          }
        }
      ]
    },
    {
      "cell_type": "code",
      "source": [
        "#Añade el termino de interseccion a X\n",
        "#(Columna de 1's para X0)\n",
        "X = np.concatenate([np.ones((m, 1)), X_norm], axis=1)\n",
        "print(X)"
      ],
      "metadata": {
        "colab": {
          "base_uri": "https://localhost:8080/"
        },
        "id": "bNhFi7iGWcnp",
        "outputId": "eaf7eb71-9ae9-4b10-ae22-3959191a5dca"
      },
      "execution_count": 128,
      "outputs": [
        {
          "output_type": "stream",
          "name": "stdout",
          "text": [
            "[[ 1.         -0.92599069 -0.9736597 ]\n",
            " [ 1.          1.26508587  1.41678666]\n",
            " [ 1.          0.53472702  0.39230965]\n",
            " [ 1.          1.26508587  1.41678666]\n",
            " [ 1.         -0.92599069 -0.9736597 ]\n",
            " [ 1.         -0.19563184 -0.4045058 ]\n",
            " [ 1.         -1.65634954 -1.31515203]\n",
            " [ 1.         -0.92599069 -0.9736597 ]\n",
            " [ 1.          1.26508587  1.41678666]\n",
            " [ 1.         -0.92599069 -0.9736597 ]\n",
            " [ 1.          0.53472702  0.39230965]\n",
            " [ 1.         -0.92599069 -0.9736597 ]\n",
            " [ 1.          1.26508587  1.41678666]\n",
            " [ 1.         -0.19563184 -0.4045058 ]\n",
            " [ 1.         -0.92599069 -0.9736597 ]\n",
            " [ 1.          0.53472702  0.39230965]\n",
            " [ 1.          0.53472702  0.39230965]\n",
            " [ 1.         -0.92599069 -0.9736597 ]\n",
            " [ 1.         -0.92599069 -0.9736597 ]\n",
            " [ 1.         -0.19563184 -0.4045058 ]\n",
            " [ 1.         -0.92599069 -0.9736597 ]\n",
            " [ 1.         -1.65634954 -1.31515203]\n",
            " [ 1.          1.26508587  1.41678666]\n",
            " [ 1.          0.53472702  0.39230965]\n",
            " [ 1.          1.26508587  1.41678666]\n",
            " [ 1.          1.26508587  1.41678666]\n",
            " [ 1.         -0.19563184 -0.4045058 ]\n",
            " [ 1.          1.26508587  1.41678666]\n",
            " [ 1.         -1.65634954 -1.31515203]\n",
            " [ 1.         -1.65634954 -1.31515203]\n",
            " [ 1.         -0.92599069 -0.9736597 ]\n",
            " [ 1.         -0.92599069 -0.9736597 ]\n",
            " [ 1.          0.53472702  0.39230965]\n",
            " [ 1.          0.53472702  0.39230965]\n",
            " [ 1.          0.53472702  0.39230965]\n",
            " [ 1.          0.53472702  0.39230965]\n",
            " [ 1.         -0.19563184 -0.4045058 ]\n",
            " [ 1.          0.53472702  0.39230965]\n",
            " [ 1.          1.26508587  1.41678666]\n",
            " [ 1.         -1.65634954 -1.31515203]\n",
            " [ 1.          1.26508587  1.41678666]\n",
            " [ 1.         -0.92599069 -0.9736597 ]\n",
            " [ 1.         -0.92599069 -0.9736597 ]\n",
            " [ 1.          1.26508587  1.41678666]\n",
            " [ 1.          0.53472702  0.39230965]\n",
            " [ 1.          1.26508587  1.41678666]\n",
            " [ 1.         -0.92599069 -0.9736597 ]\n",
            " [ 1.          0.53472702  0.39230965]\n",
            " [ 1.          0.53472702  0.39230965]\n",
            " [ 1.         -0.19563184 -0.4045058 ]\n",
            " [ 1.         -0.19563184 -0.4045058 ]\n",
            " [ 1.         -0.92599069 -0.9736597 ]\n",
            " [ 1.         -1.65634954 -1.31515203]\n",
            " [ 1.          0.53472702  0.39230965]\n",
            " [ 1.          1.26508587  1.41678666]\n",
            " [ 1.          1.26508587  1.41678666]]\n"
          ]
        }
      ]
    },
    {
      "cell_type": "code",
      "source": [
        "#definicion de funcion para calcular el costo\n",
        "def computeCostMulti(X, y, theta):\n",
        "    #Inicializa algunos valores que seran utiles\n",
        "    m = y.shape[0] #numero de ejemplos de entrenamiento\n",
        "    J = 0\n",
        "    h = np.dot(X, theta)\n",
        "    J = (1/(2 * m)) * np.sum(np.square(np.dot(X, theta) - y))\n",
        "    return J"
      ],
      "metadata": {
        "id": "Dfla3rf8Wf-b"
      },
      "execution_count": 129,
      "outputs": []
    },
    {
      "cell_type": "code",
      "source": [
        "#definicion de funcion para calcular el descenso por el gradiente\n",
        "def gradientDescentMulti(X, y, theta, alpha, num_iters):\n",
        "    #Inicializa algunos valores \n",
        "    m = y.shape[0] # numero de ejemplos de entrenamiento\n",
        "    \n",
        "    # realiza una copia de theta, el cual será acutalizada por el descenso por el gradiente\n",
        "    theta = theta.copy()\n",
        "    \n",
        "    J_history = []\n",
        "    for i in range(num_iters):\n",
        "        theta = theta - (alpha / m) * (np.dot(X, theta) - y).dot(X)\n",
        "        J_history.append(computeCostMulti(X, y, theta))\n",
        "    return theta, J_history"
      ],
      "metadata": {
        "id": "73_7M58bWgmx"
      },
      "execution_count": 130,
      "outputs": []
    },
    {
      "cell_type": "code",
      "source": [
        "#Elegir algun valor para alpha (probar varias alternativas)\n",
        "alpha = 0.003\n",
        "num_iters = 100000\n",
        "\n",
        "#inicializa theta y ejecuta el descenso por el gradiente\n",
        "theta = np.zeros(3)\n",
        "theta, J_history = gradientDescentMulti(X, y, theta, alpha, num_iters)\n",
        "\n",
        "#Grafica la convergencia del costo\n",
        "pyplot.plot(np.arange(len(J_history)), J_history, lw=2)\n",
        "pyplot.xlabel('Numero de iteraciones')\n",
        "pyplot.ylabel('Costo J')\n",
        "\n",
        "#Muestra los resultados del descenso por el gradiente\n",
        "print('theta calculado por el descenso por el gradiente: {:s}'.format(str(theta)))\n",
        "\n",
        "#El costo para 6 bubble tea\n",
        "X_array = [6, 20.8, 136]\n",
        "X_array[1:3] = (X_array[1:3] - mu) / sigma\n",
        "price = np.dot(X_array, theta)   # Se debe cambiar esto\n",
        "\n",
        "print('El costo para 6 bubble tea es de: ${:.0f}'.format(price))"
      ],
      "metadata": {
        "colab": {
          "base_uri": "https://localhost:8080/",
          "height": 316
        },
        "id": "TGrV8sjRWiQg",
        "outputId": "645ff035-3ba7-4347-afe0-42622eb7889a"
      },
      "execution_count": 131,
      "outputs": [
        {
          "output_type": "stream",
          "name": "stdout",
          "text": [
            "theta calculado por el descenso por el gradiente: [75.1525     33.23122738 -2.71545658]\n",
            "El costo para 6 bubble tea es de: $838\n"
          ]
        },
        {
          "output_type": "display_data",
          "data": {
            "text/plain": [
              "<Figure size 432x288 with 1 Axes>"
            ],
            "image/png": "[encoded data removed]"
          },
          "metadata": {
            "needs_background": "light"
          }
        }
      ]
    },
    {
      "cell_type": "code",
      "source": [
        "plotData(X[:, 1], y)\n",
        "pyplot.plot(X[:, 1], np.dot(X, theta), '-')"
      ],
      "metadata": {
        "colab": {
          "base_uri": "https://localhost:8080/",
          "height": 296
        },
        "id": "QrZoDCD1Wmcy",
        "outputId": "40c0500b-2105-4f2c-8705-d71bec6ab00f"
      },
      "execution_count": 132,
      "outputs": [
        {
          "output_type": "execute_result",
          "data": {
            "text/plain": [
              "[<matplotlib.lines.Line2D at 0x7f0f0a91a050>]"
            ]
          },
          "metadata": {},
          "execution_count": 132
        },
        {
          "output_type": "display_data",
          "data": {
            "text/plain": [
              "<Figure size 432x288 with 1 Axes>"
            ],
            "image/png": "[encoded data removed]"
          },
          "metadata": {
            "needs_background": "light"
          }
        }
      ]
    }
  ]
}