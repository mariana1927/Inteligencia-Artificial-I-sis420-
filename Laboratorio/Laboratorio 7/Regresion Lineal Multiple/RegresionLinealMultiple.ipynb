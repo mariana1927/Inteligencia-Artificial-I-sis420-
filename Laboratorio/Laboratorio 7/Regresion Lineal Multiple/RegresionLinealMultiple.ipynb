{
  "nbformat": 4,
  "nbformat_minor": 0,
  "metadata": {
    "colab": {
      "name": "RegresionLinealMultiple.ipynb",
      "provenance": []
    },
    "kernelspec": {
      "name": "python3",
      "display_name": "Python 3"
    },
    "language_info": {
      "name": "python"
    }
  },
  "cells": [
    {
      "cell_type": "code",
      "execution_count": 31,
      "metadata": {
        "colab": {
          "base_uri": "https://localhost:8080/"
        },
        "id": "eOUe4owfmAd9",
        "outputId": "d2c328b7-fbfb-4ec5-ea1d-23ffe8184f6a"
      },
      "outputs": [
        {
          "output_type": "stream",
          "name": "stdout",
          "text": [
            "Drive already mounted at /content/gdrive; to attempt to forcibly remount, call drive.mount(\"/content/gdrive\", force_remount=True).\n"
          ]
        }
      ],
      "source": [
        "import os\n",
        "import numpy as np\n",
        "from matplotlib import pyplot\n",
        "#Necesario para graficar superficies 3D\n",
        "from mpl_toolkits.mplot3d import Axes3D  \n",
        "# llama a matplotlib a embeber graficas dentro de los cuadernillos\n",
        "%matplotlib inline\n",
        "from google.colab import drive\n",
        "drive.mount(\"/content/gdrive\")"
      ]
    },
    {
      "cell_type": "code",
      "source": [
        "#Cargar datos\n",
        "data = np.loadtxt('/content/gdrive/MyDrive/datasetMul.txt', delimiter=',')\n",
        "X = data[:, :2]\n",
        "y = data[:, 2]\n",
        "m = y.size\n",
        "\n",
        "#Imprimir algunos puntos de datos\n",
        "print('{:>8s}{:>8s}{:>10s}'.format('X[:,0]', 'X[:, 1]', 'y'))\n",
        "print('-'*26)\n",
        "#Mostrar una cierta cantidad de datos\n",
        "for i in range(20):\n",
        "    print('{:8.0f}{:8.0f}{:10.0f}'.format(X[i, 0], X[i, 1], y[i]))"
      ],
      "metadata": {
        "colab": {
          "base_uri": "https://localhost:8080/"
        },
        "id": "XUp7pYyNmTb8",
        "outputId": "86068c7f-5a80-41d4-c057-690d4fa3df2d"
      },
      "execution_count": 32,
      "outputs": [
        {
          "output_type": "stream",
          "name": "stdout",
          "text": [
            "  X[:,0] X[:, 1]         y\n",
            "--------------------------\n",
            "      68     180        74\n",
            "      77     160        70\n",
            "      25     173        95\n",
            "      81     165        62\n",
            "      19     188        55\n",
            "      67     190       100\n",
            "      59     165       157\n",
            "      70     165        61\n",
            "      45     170        75\n",
            "      50     175        79\n",
            "      72     155        68\n",
            "      80     160        70\n",
            "      48     175       168\n",
            "      65     173        68\n",
            "      81     173       114\n",
            "      78     160        89\n",
            "      30     193        87\n",
            "      46     168        73\n",
            "      65     168        80\n",
            "      39     178       117\n"
          ]
        }
      ]
    },
    {
      "cell_type": "code",
      "source": [
        "#definicion de funcion que calcula desviacion estandar\n",
        "def featureNormalize(X):\n",
        "    X_norm = X.copy()\n",
        "    mu = np.zeros(X.shape[1])\n",
        "    sigma = np.zeros(X.shape[1])\n",
        "\n",
        "    mu = np.mean(X, axis = 0)\n",
        "    sigma = np.std(X, axis = 0)\n",
        "    X_norm = (X - mu) / sigma\n",
        "    \n",
        "    return X_norm, mu, sigma"
      ],
      "metadata": {
        "id": "IPz8ENWzoh5a"
      },
      "execution_count": 33,
      "outputs": []
    },
    {
      "cell_type": "code",
      "source": [
        "#llama a 'featureNormalize' con los datos cargados\n",
        "X_norm, mu, sigma = featureNormalize(X)\n",
        "\n",
        "print(X)\n",
        "print('Media calculada:', mu)\n",
        "print('Desviación Estandar calculada:', sigma)\n",
        "print(X_norm)"
      ],
      "metadata": {
        "colab": {
          "base_uri": "https://localhost:8080/"
        },
        "id": "GP8DZaEcpSKl",
        "outputId": "0694c4e7-459e-4fce-81d6-8c7fae18f897"
      },
      "execution_count": 34,
      "outputs": [
        {
          "output_type": "stream",
          "name": "stdout",
          "text": [
            "[[ 68.  180.3]\n",
            " [ 77.  160. ]\n",
            " [ 25.  172.7]\n",
            " ...\n",
            " [ 83.  160. ]\n",
            " [ 69.  162.6]\n",
            " [ 97.  165.1]]\n",
            "Media calculada: [ 62.598   169.66406]\n",
            "Desviación Estandar calculada: [16.60350553 10.78472098]\n",
            "[[ 0.32535298  0.98620447]\n",
            " [ 0.86740719 -0.89608809]\n",
            " [-2.26446156  0.28150381]\n",
            " ...\n",
            " [ 1.22877666 -0.89608809]\n",
            " [ 0.38558122 -0.65500628]\n",
            " [ 2.07197209 -0.42319685]]\n"
          ]
        }
      ]
    },
    {
      "cell_type": "code",
      "source": [
        "#Añade el termino de interseccion a X\n",
        "#(Columna de u1's para X0)\n",
        "X = np.concatenate([np.ones((m, 1)), X_norm], axis=1)\n",
        "print(X)"
      ],
      "metadata": {
        "colab": {
          "base_uri": "https://localhost:8080/"
        },
        "id": "bqk-0arRpwja",
        "outputId": "2eb29275-7c40-47d2-86f4-c73fe1a9e2bd"
      },
      "execution_count": 35,
      "outputs": [
        {
          "output_type": "stream",
          "name": "stdout",
          "text": [
            "[[ 1.          0.32535298  0.98620447]\n",
            " [ 1.          0.86740719 -0.89608809]\n",
            " [ 1.         -2.26446156  0.28150381]\n",
            " ...\n",
            " [ 1.          1.22877666 -0.89608809]\n",
            " [ 1.          0.38558122 -0.65500628]\n",
            " [ 1.          2.07197209 -0.42319685]]\n"
          ]
        }
      ]
    },
    {
      "cell_type": "code",
      "source": [
        "#definicion de funcion para calcular el costo\n",
        "def computeCostMulti(X, y, theta):\n",
        "    #Inicializa algunos valores que seran utiles\n",
        "    m = y.shape[0] # numero de ejemplos de entrenamiento\n",
        "    J = 0\n",
        "    h = np.dot(X, theta)\n",
        "    J = (1/(2 * m)) * np.sum(np.square(np.dot(X, theta) - y))\n",
        "    return J"
      ],
      "metadata": {
        "id": "H1-j5dQLp-sP"
      },
      "execution_count": 36,
      "outputs": []
    },
    {
      "cell_type": "code",
      "source": [
        "#defincionn de funcion para calcular el descenso por el gradiente\n",
        "def gradientDescentMulti(X, y, theta, alpha, num_iters):\n",
        "    # Inicializa algunos valores que seran de utilidad\n",
        "    m = y.shape[0] # numero de ejemplos de entrenamiento\n",
        "    # realiza una copia de theta, el cual será acutalizada por el descenso por el gradiente\n",
        "    theta = theta.copy()\n",
        "    J_history = []\n",
        "    for i in range(num_iters):\n",
        "        theta = theta - (alpha / m) * (np.dot(X, theta) - y).dot(X)\n",
        "        J_history.append(computeCostMulti(X, y, theta))\n",
        "    return theta, J_history"
      ],
      "metadata": {
        "id": "L_vfL4idqaud"
      },
      "execution_count": 37,
      "outputs": []
    },
    {
      "cell_type": "code",
      "source": [
        "#Elegir algun valor para alpha (probar varias alternativas)\n",
        "alpha = 0.001 # alpha = 0.003\n",
        "num_iters = 10000\n",
        "\n",
        "#inicializa theta y ejecuta el descenso por el gradiente\n",
        "theta = np.zeros(3)\n",
        "theta, J_history = gradientDescentMulti(X, y, theta, alpha, num_iters)\n",
        "\n",
        "#Grafica la convergencia del costo\n",
        "pyplot.plot(np.arange(len(J_history)), J_history, lw=2)\n",
        "pyplot.xlabel('Numero de iteraciones')\n",
        "pyplot.ylabel('Costo J')\n",
        "\n",
        "#Muestra los resultados del descenso por el gradiente\n",
        "print('theta calculado por el descenso por el gradiente es: {:s}'.format(str(theta)))\n",
        "\n",
        "#Estimar el precio, para un paciente de 28 años, 184.3cm de altura y 70kg de peso corporal\n",
        "X_array = [28, 184.6, 65]\n",
        "#normalizar\n",
        "X_array[1:3] = (X_array[1:3] - mu) / sigma\n",
        "price = np.dot(X_array, theta)   # Se debe cambiar esto\n",
        "\n",
        "print('El precio predecido para un paciente de 28 años, 184.3cm de altura y 70kg de peso corporal (usando el descenso por el gradiente) es: ${:.0f}'.format(price))"
      ],
      "metadata": {
        "colab": {
          "base_uri": "https://localhost:8080/",
          "height": 314
        },
        "id": "seSCJqmtq02o",
        "outputId": "3983b366-8537-4dfb-f9c7-f7b858fb45f7"
      },
      "execution_count": 38,
      "outputs": [
        {
          "output_type": "stream",
          "name": "stdout",
          "text": [
            "theta calculado por el descenso por el gradiente es: [80.79915987 -1.53680955  9.22209784]\n",
            "El precio predecido para un paciente de 28 años, 184.3cm de altura y 70kg de peso corporal (usando el descenso por el gradiente) es: $2162\n"
          ]
        },
        {
          "output_type": "display_data",
          "data": {
            "text/plain": [
              "<Figure size 432x288 with 1 Axes>"
            ],
            "image/png": "[encoded data removed]"
          },
          "metadata": {
            "needs_background": "light"
          }
        }
      ]
    }
  ]
}