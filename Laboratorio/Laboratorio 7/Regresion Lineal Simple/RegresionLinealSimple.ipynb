{
  "nbformat": 4,
  "nbformat_minor": 0,
  "metadata": {
    "colab": {
      "name": "RegresionLinealSimple.ipynb",
      "provenance": [],
      "collapsed_sections": []
    },
    "kernelspec": {
      "name": "python3",
      "display_name": "Python 3"
    },
    "language_info": {
      "name": "python"
    }
  },
  "cells": [
    {
      "cell_type": "code",
      "metadata": {
        "id": "mIM3MHD6oWwH"
      },
      "source": [
        "import os\n",
        "import numpy as np\n",
        "from matplotlib import pyplot"
      ],
      "execution_count": 121,
      "outputs": []
    },
    {
      "cell_type": "code",
      "metadata": {
        "id": "8fqXopw1owNd"
      },
      "source": [
        "#Datos sobre las alturas y peso corporal de 1000 pacientes ingresados en un hospital\n",
        "#Leer datos\n",
        "data = np.loadtxt('datasetSim.txt', delimiter=',')\n",
        "X, y = data[:, 0], data[:,1]\n",
        "m = y.size"
      ],
      "execution_count": 122,
      "outputs": []
    },
    {
      "cell_type": "code",
      "source": [
        "y"
      ],
      "metadata": {
        "colab": {
          "base_uri": "https://localhost:8080/"
        },
        "id": "B9lKpNqDOHoA",
        "outputId": "e3b1d82b-f70f-4b77-e526-56733805be71"
      },
      "execution_count": 123,
      "outputs": [
        {
          "output_type": "execute_result",
          "data": {
            "text/plain": [
              "array([ 73.9 ,  70.2 ,  95.3 ,  61.7 ,  55.4 , 100.  , 156.6 ,  60.9 ,\n",
              "        75.4 ,  79.  ,  67.8 ,  70.1 , 168.3 ,  68.3 , 113.9 ,  89.2 ,\n",
              "        87.1 ,  72.6 ,  79.8 , 117.  ,  82.2 , 103.3 ,  73.9 ,  71.4 ,\n",
              "       104.3 ,  70.9 ,  55.3 ,  52.6 ,  83.9 ,  86.1 , 108.3 ,  82.2 ,\n",
              "        44.9 , 116.6 ,  64.4 , 121.7 ,  90.7 , 110.7 ,  54.3 ,  78.4 ,\n",
              "        83.9 , 117.  ,  46.5 ,  62.8 , 102.7 , 112.  ,  55.2 ,  39.3 ,\n",
              "       112.7 ,  90.7 , 120.7 ,  82.2 ,  88.7 ,  64.  ,  91.  , 102.9 ,\n",
              "        86.2 ,  53.4 ,  26.9 ,  90.3 ,  79.7 ,  88.  ,  87.  ,  57.1 ,\n",
              "        85.7 , 104.4 ,  77.5 ,  68.8 ,  77.1 ,  32.2 ,  86.2 ,  53.1 ,\n",
              "        38.6 ,  71.1 , 122.7 ,  65.7 ,  64.4 ,  55.  , 147.9 ,  45.4 ,\n",
              "        88.9 ,  67.3 ,  97.8 ,  73.2 ,  96.6 ,  70.6 ,  89.5 ,  90.7 ,\n",
              "       120.2 ,  63.9 ,  54.7 ,  54.6 ,  66.4 ,  92.7 ,  87.2 ,  80.7 ,\n",
              "        76.2 , 100.  ,  86.8 , 118.8 ,  26.  ,  69.7 ,  70.  ,  89.8 ,\n",
              "        84.8 ,  72.5 ,  73.9 ,  65.9 ,  66.7 ,  68.5 ,  79.2 , 100.  ,\n",
              "        80.6 ,  79.8 , 120.2 ,  71.5 ,  50.3 ,  61.7 ,  72.4 , 129.6 ,\n",
              "       106.6 ,  81.3 ,  49.  ,  86.1 ,  91.6 ,  84.4 , 101.6 ,  51.7 ,\n",
              "        96.  ,  68.9 , 117.9 ,  63.5 ,  63.2 ,  42.9 ,  36.7 ,  69.8 ,\n",
              "       103.9 ,  78.1 ,  70.3 , 105.  ,  68.  ,  69.6 ,  92.1 ,  88.8 ,\n",
              "        79.3 ,  79.8 , 114.3 ,  88.6 , 117.6 ,  52.4 ,  72.  ,  63.9 ,\n",
              "        78.  ,  57.2 ,  96.1 ,  66.  ,  88.8 ,  65.7 ,  84.5 ,  88.  ,\n",
              "        56.9 ,  77.7 ,  29.1 ,  81.2 ,  82.2 ,  74.9 , 113.2 ,  57.2 ,\n",
              "        94.  ,  40.  ,  50.8 ,  94.8 ,  38.6 ,  79.7 ,  72.6 ,  83.55,\n",
              "        71.5 ,  85.7 ,  65.7 ,  98.9 ,  91.6 ,  75.5 ,  83.1 ,  67.7 ,\n",
              "        46.81, 122.9 ,  68.  ,  82.1 , 103.  ,  87.9 , 113.2 ,  65.8 ,\n",
              "        75.7 , 186.  ,  83.8 ,  50.1 ,  67.3 ,  84.1 ,  68.  ,  77.5 ,\n",
              "        47.4 ,  55.  ,  58.5 ,  73.7 ,  77.56,  50.8 ,  94.8 ,  79.4 ,\n",
              "        83.9 ,  98.  ,  72.5 , 113.4 ,  82.5 ,  74.4 , 106.6 ,  75.7 ,\n",
              "        55.7 , 102.5 ,  56.9 , 141.8 ,  79.7 ,  70.4 ,  76.4 ,  64.8 ,\n",
              "        86.6 ,  74.  ,  54.9 ,  84.2 ,  79.5 , 117.9 , 134.7 ,  87.5 ,\n",
              "        86.18,  96.3 ,  81.4 ,  68.  ,  48.1 ,  97.5 , 101.5 ,  80.4 ,\n",
              "        94.3 ,  52.7 ,  68.4 ,  91.1 ,  99.8 ,  85.3 ,  44.5 , 115.6 ,\n",
              "        76.4 ,  77.7 ,  95.5 ,  83.9 , 122.5 ,  44.  ,  86.4 , 105.6 ,\n",
              "        57.8 ,  81.4 ,  57.2 ,  88.3 ,  49.89,  76.1 , 100.3 ,  75.75,\n",
              "        80.4 ,  56.8 ,  98.3 ,  95.3 ,  71.  ,  86.5 ,  28.8 ,  60.3 ,\n",
              "        49.4 ,  65.3 ,  43.2 ,  88.1 ,  71.2 ,  50.7 ,  86.3 ,  87.5 ,\n",
              "        63.5 ,  32.2 ,  66.1 ,  69.1 ,  60.5 , 153.7 ,  48.3 , 126.7 ,\n",
              "        76.9 ,  47.4 , 100.4 ,  95.  ,  47.  ,  62.1 ,  99.7 ,  39.7 ,\n",
              "        92.3 ,  61.5 ,  53.  ,  46.3 , 106.8 , 106.6 ,  64.5 ,  64.1 ,\n",
              "        68.  ,  75.6 ,  83.5 ,  68.2 ,  90.3 , 136.  ,  85.5 ,  83.3 ,\n",
              "        90.  , 110.9 , 128.8 ,  86.6 ,  74.9 ,  91.7 ,  52.1 ,  96.8 ,\n",
              "        87.  ,  91.  ,  94.3 ,  52.  ,  89.8 ,  60.8 , 111.4 ,  97.1 ,\n",
              "        84.1 ,  32.3 ,  66.1 ,  95.1 ,  63.5 , 103.6 ,  78.6 , 105.8 ,\n",
              "       159.9 ,  81.4 ,  83.  ,  95.2 ,  61.6 ,  67.4 ,  87.6 ,  84.5 ,\n",
              "        29.3 ,  35.2 ,  69.5 ,  78.5 , 186.  ,  91.  , 107.9 ,  81.6 ,\n",
              "       116.5 ,  93.9 ,  59.  , 146.  ,  60.9 ,  63.7 ,  68.  ,  56.  ,\n",
              "        79.4 , 119.7 ,  70.3 , 108.9 ,  39.  ,  88.7 ,  79.6 , 104.4 ,\n",
              "        78.2 ,  99.79,  38.6 , 111.1 ,  79.1 , 119.9 ,  86.2 ,  86.2 ,\n",
              "        79.3 ,  81.8 ,  31.3 ,  37.8 ,  83.4 ,  55.2 ,  61.7 ,  79.  ,\n",
              "       116.9 ,  58.8 , 102.5 ,  83.9 , 104.1 ,  78.2 ,  47.8 ,  53.6 ,\n",
              "        83.4 ,  66.7 ,  72.6 ,  91.2 ,  82.2 , 119.  , 143.7 ,  86.8 ,\n",
              "        54.3 ,  51.8 ,  50.5 ,  92.5 , 101.6 ,  41.7 ,  87.8 ,  66.7 ,\n",
              "        86.1 ,  71.5 ,  80.2 ,  88.5 , 186.  ,  65.8 ,  78.9 ,  68.6 ,\n",
              "       115.7 , 106.6 ,  88.7 ,  46.2 ,  26.9 ,  38.1 , 125.  ,  74.8 ,\n",
              "        68.04,  70.1 ,  98.  ,  79.4 , 136.  ,  87.  ,  63.5 , 127.  ,\n",
              "       139.7 ,  81.6 ,  70.8 ,  60.3 ,  70.7 , 115.  , 104.3 , 113.3 ,\n",
              "       115.7 ,  74.6 ,  71.1 , 108.8 ,  96.9 ,  33.3 ,  39.55,  58.9 ,\n",
              "        72.5 ,  66.  ,  69.3 , 110.  ,  99.4 , 186.  ,  64.9 ,  75.2 ,\n",
              "        86.2 , 103.  ,  68.5 ,  84.8 ,  25.2 ,  99.5 ,  36.4 ,  93.1 ,\n",
              "       100.3 ,  75.8 , 107.  ,  72.9 , 117.  ,  72.5 ,  41.  ,  62.7 ,\n",
              "        46.6 ,  70.3 ,  68.9 , 101.1 , 102.5 ,  77.1 ,  88.9 ,  51.7 ,\n",
              "       107.5 , 123.6 ,  41.7 ,  53.  ,  66.7 ,  61.1 , 160.7 ,  52.3 ,\n",
              "        70.8 ,  54.8 ,  70.1 ,  48.9 ,  65.8 , 115.  , 100.7 ,  59.4 ,\n",
              "        81.7 ,  63.5 ,  68.4 ,  85.7 ,  93.7 , 102.1 ,  83.1 ,  83.4 ,\n",
              "        92.9 , 108.2 , 108.  ,  95.6 ,  54.4 ,  87.8 ,  52.1 ,  97.5 ,\n",
              "        77.5 ,  95.4 ,  77.  , 103.8 ,  82.1 ,  38.9 ,  88.1 ,  84.7 ,\n",
              "       131.3 ,  82.2 , 112.8 , 100.6 ,  68.2 ,  64.6 ,  25.5 ,  25.3 ,\n",
              "        79.5 ,  46.9 ,  75.5 ,  84.9 , 116.1 ,  55.2 ,  68.  ,  29.1 ,\n",
              "        85.5 ,  78.2 ,  71.6 ,  41.6 ,  70.  ,  68.  ,  80.9 ,  29.3 ,\n",
              "        83.5 , 102.4 , 125.  ,  67.  ,  48.9 ,  58.7 ,  80.5 ,  66.7 ,\n",
              "        71.8 ,  98.7 ,  56.38,  75.1 ,  37.  ,  68.9 ,  65.8 ,  92.6 ,\n",
              "        75.4 , 113.2 , 126.  , 136.1 ,  88.2 ,  62.6 ,  62.9 ,  62.  ,\n",
              "        63.8 , 116.  , 113.2 , 103.7 ,  94.5 ,  97.5 ,  59.4 ,  71.2 ,\n",
              "        85.7 ,  64.3 , 186.  ,  69.9 ,  92.53,  33.8 ,  91.8 ,  68.9 ,\n",
              "        68.4 ,  71.8 , 101.8 , 104.9 ,  76.1 ,  54.3 ,  52.7 , 104.7 ,\n",
              "        97.  ,  77.1 ,  58.1 ,  49.7 ,  75.8 , 118.4 ,  86.18,  69.8 ,\n",
              "        72.3 ,  52.2 ,  81.5 ,  69.4 , 113.4 ,  54.9 , 129.4 ,  37.7 ,\n",
              "        82.55, 103.4 ,  76.2 ,  75.4 , 110.2 ,  82.9 ,  88.3 , 125.5 ,\n",
              "        88.9 ,  90.9 ,  51.71,  55.8 ,  73.03,  90.4 ,  81.6 ,  99.3 ,\n",
              "        31.8 ,  36.7 , 108.8 , 140.6 ,  82.1 ,  29.6 ,  83.6 , 112.9 ,\n",
              "        86.5 ,  92.3 ,  94.7 ,  90.95,  60.5 ,  38.3 ,  74.8 , 110.9 ,\n",
              "        72.5 ,  52.6 ,  77.7 ,  96.2 , 119.3 ,  90.  ,  59.  ,  81.4 ,\n",
              "       132.7 , 132.5 ,  37.8 ,  90.7 ,  60.6 , 105.1 , 173.7 , 103.2 ,\n",
              "        78.2 ,  98.9 ,  91.8 ,  81.2 ,  69.  ,  58.4 ,  37.6 ,  65.7 ,\n",
              "        65.3 ,  93.8 ,  58.5 ,  65.3 ,  76.5 ,  59.  ,  63.1 ,  69.4 ,\n",
              "       103.2 ,  63.5 ,  47.9 ,  86.2 ,  77.6 ,  87.9 ,  60.7 ,  75.2 ,\n",
              "        65.7 ,  45.7 ,  68.  , 136.1 ,  53.3 , 111.6 , 128.7 ,  65.5 ,\n",
              "        70.1 ,  45.5 ,  82.1 ,  93.2 ,  52.9 ,  88.9 ,  62.3 ,  79.6 ,\n",
              "        42.5 , 185.  ,  63.6 ,  68.1 ,  70.4 ,  58.26,  76.8 ,  77.1 ,\n",
              "       144.  , 111.1 ,  37.5 , 104.2 ,  80.1 , 124.9 ,  97.4 , 123.1 ,\n",
              "        63.5 ,  47.5 ,  54.  ,  64.5 ,  78.  ,  81.1 , 104.9 ,  95.2 ,\n",
              "        66.5 ,  83.9 ,  70.5 ,  99.7 ,  98.3 , 103.4 ,  85.2 ,  59.4 ,\n",
              "        51.8 ,  66.5 , 106.2 ,  40.2 ,  86.4 , 118.1 , 118.9 ,  98.4 ,\n",
              "       128.3 ,  48.3 , 124.7 , 117.9 ,  91.9 ,  87.1 ,  53.8 ,  83.6 ,\n",
              "        64.2 ,  99.8 , 143.2 , 131.5 ,  75.9 ,  83.  ,  57.7 , 154.2 ,\n",
              "        90.3 ,  64.1 ,  64.9 ,  53.2 ,  88.8 ,  68.  ,  29.5 , 100.2 ,\n",
              "       107.5 ,  78.1 ,  87.5 ,  90.7 , 108.7 , 117.9 , 102.8 ,  76.6 ,\n",
              "        88.6 ,  68.9 ,  40.5 ,  96.5 ,  68.9 ,  91.2 ,  85.5 , 119.2 ,\n",
              "        54.2 , 113.4 , 130.2 ,  44.1 ,  73.4 , 108.8 , 106.2 ,  63.5 ,\n",
              "        68.4 , 181.4 , 115.7 ,  86.2 ,  95.9 ,  61.2 ,  99.8 ,  59.9 ,\n",
              "        56.4 ,  75.6 ,  85.9 ,  55.4 ,  84.4 ,  61.8 ,  68.  , 101.2 ,\n",
              "        52.7 ,  65.7 ,  66.6 ,  77.9 ,  84.3 ,  43.  ,  56.  ,  97.6 ,\n",
              "        71.8 ,  42.8 , 127.  ,  88.  ,  86.2 ,  28.8 ,  85.5 ,  80.46,\n",
              "        89.8 , 113.4 ,  70.8 , 112.1 ,  83.4 ,  88.  , 107.2 ,  58.3 ,\n",
              "        75.4 ,  78.6 ,  54.3 ,  29.2 ,  53.3 ,  68.1 ,  68.7 ,  84.4 ,\n",
              "        86.8 ,  28.3 ,  53.8 ,  85.6 ,  55.3 ,  68.  ,  74.6 ,  84.8 ,\n",
              "        96.1 ,  51.3 , 111.1 ,  40.9 ,  79.37,  92.9 ,  68.8 ,  99.8 ,\n",
              "        67.36,  74.1 ,  79.8 , 120.6 ,  78.3 ,  71.4 ,  73.1 ,  82.6 ,\n",
              "        97.5 ,  80.2 ,  59.9 , 131.1 , 172.3 ,  63.3 ,  87.49,  52.1 ,\n",
              "        85.2 , 101.6 ,  66.2 ,  98.7 , 138.1 ,  89.8 ,  90.7 ,  81.6 ,\n",
              "        97.  ,  98.3 ,  63.7 ,  65.8 ,  49.4 , 108.  , 116.6 ,  93.8 ,\n",
              "        68.6 ,  58.9 ,  58.4 ,  64.8 ,  53.1 ,  81.2 ,  83.4 , 161.  ,\n",
              "       111.  ,  58.6 ,  83.  ,  92.2 ,  41.2 ,  72.  ,  81.6 ,  56.2 ,\n",
              "        83.46,  57.3 ,  87.5 ,  61.1 ,  85.4 ,  59.24, 111.9 ,  81.  ,\n",
              "        55.3 ,  87.3 , 122.4 ,  81.6 ,  50.9 ,  48.1 ,  54.4 ,  51.4 ,\n",
              "        77.1 , 107.6 ,  64.4 ,  77.9 ,  65.9 ,  74.8 ,  92.1 ,  63.5 ,\n",
              "        39.7 ,  76.7 ,  81.6 ,  55.8 , 109.7 ,  92.9 , 163.3 ,  66.9 ,\n",
              "        89.8 ,  58.96,  57.2 ,  56.7 ,  61.5 , 155.3 ,  92.2 ,  59.7 ,\n",
              "        77.1 ,  62.1 ,  77.7 ,  47.5 ,  70.7 , 148.4 , 100.9 ,  88.  ,\n",
              "        51.6 ,  88.5 ,  60.8 ,  67.2 ,  78.4 , 101.3 ,  83.8 ,  79.9 ,\n",
              "        87.1 ,  97.  ,  88.8 ,  35.3 , 144.  ,  66.6 ,  76.2 , 118.4 ,\n",
              "        89.4 ,  70.  ,  70.1 ,  56.7 ,  68.  ,  70.  ,  85.  ,  63.5 ,\n",
              "        50.4 ,  49.9 ,  61.2 ,  77.1 ,  82.56,  59.4 ,  89.3 ,  77.3 ,\n",
              "        87.5 ,  74.6 ,  66.7 ,  69.4 ,  72.6 , 113.3 ,  92.9 ,  81.5 ,\n",
              "        72.5 ,  34.1 ,  51.7 ,  75.9 , 104.3 ,  61.9 ,  68.3 , 106.5 ,\n",
              "        55.6 , 113.4 ,  62.6 ,  88.5 ,  67.9 ,  56.1 ,  84.4 ,  53.5 ])"
            ]
          },
          "metadata": {},
          "execution_count": 123
        }
      ]
    },
    {
      "cell_type": "code",
      "metadata": {
        "id": "Dh-iI6OTqU6-"
      },
      "source": [
        "def graficarDatos(x, y):\n",
        "  fig = pyplot.figure()\n",
        "  pyplot.plot(x, y, 'ro')\n",
        "  pyplot.xlabel('Patient Height (centimeters)')\n",
        "  pyplot.ylabel('Patient Weight (kilograms)')"
      ],
      "execution_count": 124,
      "outputs": []
    },
    {
      "cell_type": "code",
      "metadata": {
        "colab": {
          "base_uri": "https://localhost:8080/",
          "height": 279
        },
        "id": "XFuj2xYOq8Rk",
        "outputId": "e7dc5012-53c7-4a42-a7c2-3f819906b065"
      },
      "source": [
        "graficarDatos(X, y)"
      ],
      "execution_count": 125,
      "outputs": [
        {
          "output_type": "display_data",
          "data": {
            "text/plain": [
              "<Figure size 432x288 with 1 Axes>"
            ],
            "image/png": "[encoded data removed]"
          },
          "metadata": {
            "needs_background": "light"
          }
        }
      ]
    },
    {
      "cell_type": "code",
      "metadata": {
        "id": "jkVjRskgrJd2"
      },
      "source": [
        "#No olvidarse agregar '1s' a la matriz de x\n",
        "X = np.stack([np.ones(m), X], axis=1)"
      ],
      "execution_count": 126,
      "outputs": []
    },
    {
      "cell_type": "code",
      "source": [
        "X"
      ],
      "metadata": {
        "colab": {
          "base_uri": "https://localhost:8080/"
        },
        "id": "TTJCbtcoOw-c",
        "outputId": "ccd251dd-ca2b-44b0-a000-333b0f7c1fda"
      },
      "execution_count": 127,
      "outputs": [
        {
          "output_type": "execute_result",
          "data": {
            "text/plain": [
              "array([[  1. , 180.3],\n",
              "       [  1. , 160. ],\n",
              "       [  1. , 172.7],\n",
              "       ...,\n",
              "       [  1. , 160. ],\n",
              "       [  1. , 162.6],\n",
              "       [  1. , 165.1]])"
            ]
          },
          "metadata": {},
          "execution_count": 127
        }
      ]
    },
    {
      "cell_type": "code",
      "metadata": {
        "id": "iDWldqUVwYwK"
      },
      "source": [
        "def calcularCosto(X, y, theta):\n",
        "  m = y.size\n",
        "  J = 0\n",
        "  h = np.dot(X, theta)\n",
        "  # print(h)\n",
        "  J = (1/(2 * m)) * np.sum(np.square(np.dot(X, theta) - y))\n",
        "  return J"
      ],
      "execution_count": 128,
      "outputs": []
    },
    {
      "cell_type": "code",
      "metadata": {
        "colab": {
          "base_uri": "https://localhost:8080/"
        },
        "id": "HqtBZGFex0uR",
        "outputId": "b37f102a-27dc-4e81-e144-a5a5a58f9976"
      },
      "source": [
        "theta=np.array([0.1, 0.5])\n",
        "JJ = calcularCosto(X, y, theta)\n",
        "print(f\"con theta:{ theta } se obtiene un costo de: {JJ}\")"
      ],
      "execution_count": 129,
      "outputs": [
        {
          "output_type": "stream",
          "name": "stdout",
          "text": [
            "con theta:[0.1 0.5] se obtiene un costo de: 317.1943689499999\n"
          ]
        }
      ]
    },
    {
      "cell_type": "code",
      "metadata": {
        "id": "ymTwiKnBzVk1"
      },
      "source": [
        "def calcularDescensoGradiente(X, y, theta, alpha, numero_iteraciones):\n",
        "  m = y.shape[0]\n",
        "  theta = theta.copy()\n",
        "  J_historico = []\n",
        "\n",
        "  for i in range(numero_iteraciones):\n",
        "    theta = theta - (alpha / m) * (np.dot(X, theta) - y).dot(X)\n",
        "    J_historico.append(calcularCosto(X, y, theta))\n",
        "\n",
        "  return theta, J_historico"
      ],
      "execution_count": 130,
      "outputs": []
    },
    {
      "cell_type": "code",
      "metadata": {
        "colab": {
          "base_uri": "https://localhost:8080/"
        },
        "id": "XVLJEATe0fiS",
        "outputId": "609bb6d4-6115-4fa3-9dbc-dc33c6512582"
      },
      "source": [
        "theta = np.zeros(2)\n",
        "\n",
        "num_ite = 200000\n",
        "alpha = 0.00006\n",
        "\n",
        "theta, J_historico = calcularDescensoGradiente(X, y, theta, alpha, num_ite)\n",
        "print(f\"los valores de theta calculados son: { theta }\")\n",
        "print(f\"con un costo de: { J_historico[-1]} \")"
      ],
      "execution_count": 131,
      "outputs": [
        {
          "output_type": "stream",
          "name": "stdout",
          "text": [
            "los valores de theta calculados son: [-3.10027935  0.49612997]\n",
            "con un costo de: 308.94823406788186 \n"
          ]
        }
      ]
    },
    {
      "cell_type": "code",
      "metadata": {
        "colab": {
          "base_uri": "https://localhost:8080/",
          "height": 296
        },
        "id": "ph6b7zgh1aD3",
        "outputId": "c307b878-bdae-4f73-a996-873057d73523"
      },
      "source": [
        "graficarDatos(X[:, 1], y)\n",
        "pyplot.plot(X[:,1], np.dot(X, theta), '-')\n",
        "pyplot.legend(['Datos de entrenamiento', 'regresion lineal'])"
      ],
      "execution_count": 132,
      "outputs": [
        {
          "output_type": "execute_result",
          "data": {
            "text/plain": [
              "<matplotlib.legend.Legend at 0x7f01c7579210>"
            ]
          },
          "metadata": {},
          "execution_count": 132
        },
        {
          "output_type": "display_data",
          "data": {
            "text/plain": [
              "<Figure size 432x288 with 1 Axes>"
            ],
            "image/png": "[encoded data removed]"
          },
          "metadata": {
            "needs_background": "light"
          }
        }
      ]
    },
    {
      "cell_type": "code",
      "metadata": {
        "colab": {
          "base_uri": "https://localhost:8080/"
        },
        "id": "OJxXluBO2T5q",
        "outputId": "c8c50c82-0433-4ff5-a121-5b0dd9b1e81a"
      },
      "source": [
        "y_pred = np.dot([1, 194.3], theta)\n",
        "print(y_pred)"
      ],
      "execution_count": 133,
      "outputs": [
        {
          "output_type": "stream",
          "name": "stdout",
          "text": [
            "93.29777395395402\n"
          ]
        }
      ]
    }
  ]
}