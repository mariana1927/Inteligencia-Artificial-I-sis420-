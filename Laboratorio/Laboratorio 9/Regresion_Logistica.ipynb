{
  "nbformat": 4,
  "nbformat_minor": 0,
  "metadata": {
    "colab": {
      "name": "Regresion_Logistica.ipynb",
      "provenance": []
    },
    "kernelspec": {
      "name": "python3",
      "display_name": "Python 3"
    },
    "language_info": {
      "name": "python"
    }
  },
  "cells": [
    {
      "cell_type": "code",
      "source": [
        "from google.colab import drive\n",
        "drive.mount('/content/drive')"
      ],
      "metadata": {
        "colab": {
          "base_uri": "https://localhost:8080/"
        },
        "id": "t0Vwc2XL_vvh",
        "outputId": "4efab9a7-de05-4f46-f118-fee74e2be23d"
      },
      "execution_count": 88,
      "outputs": [
        {
          "output_type": "stream",
          "name": "stdout",
          "text": [
            "Drive already mounted at /content/drive; to attempt to forcibly remount, call drive.mount(\"/content/drive\", force_remount=True).\n"
          ]
        }
      ]
    },
    {
      "cell_type": "code",
      "source": [
        "# se utiliza para el manejo de rutas y directorios.\n",
        "import os\n",
        "\n",
        "# Calculo cientifico y vectorial para python\n",
        "import numpy as np\n",
        "\n",
        "# Librerias para graficar\n",
        "from matplotlib import pyplot\n",
        "\n",
        "# Modulo de optimización de scipy\n",
        "from scipy import optimize\n",
        "\n",
        "# le dice a matplotlib que incruste gráficos en el cuaderno\n",
        "%matplotlib inline"
      ],
      "metadata": {
        "id": "7JCcMk1A_5Iu"
      },
      "execution_count": 89,
      "outputs": []
    },
    {
      "cell_type": "code",
      "source": [
        "# Cargar datos\n",
        "# Las dos primeras columnas contienen la nota de dos examenes y la tercera columna\n",
        "# contiene la etiqueta que indica si el alumno ingreso o no a la universidad.\n",
        "data = np.loadtxt('/content/drive/MyDrive/regresion_logistica.txt', delimiter=',')\n",
        "X, y = data[:, 0:2], data[:, 2]\n",
        "print(X)\n",
        "print(y)"
      ],
      "metadata": {
        "colab": {
          "base_uri": "https://localhost:8080/"
        },
        "id": "VZQBooCCAAux",
        "outputId": "df0307e7-c9b9-486a-9896-313732b4f864"
      },
      "execution_count": 90,
      "outputs": [
        {
          "output_type": "stream",
          "name": "stdout",
          "text": [
            "[[ 6.6  7.2]\n",
            " [ 5.4  6.9]\n",
            " [ 9.9  6.2]\n",
            " [ 5.3  3.2]\n",
            " [ 6.7  4.4]\n",
            " [ 5.3  4.1]\n",
            " [ 3.4  4.8]\n",
            " [ 5.3  9.4]\n",
            " [ 8.8  7.5]\n",
            " [ 6.9  7.1]\n",
            " [ 9.   8.9]\n",
            " [ 4.   9.7]\n",
            " [ 9.2  3.3]\n",
            " [ 7.7  4.7]\n",
            " [ 8.5  6.8]\n",
            " [ 3.7  7.1]\n",
            " [ 5.2  8.6]\n",
            " [ 2.   7.1]\n",
            " [ 3.   3.3]\n",
            " [ 4.7  2.8]\n",
            " [ 2.   7.2]\n",
            " [ 2.4  8.6]\n",
            " [ 4.   6.6]\n",
            " [ 5.4  4. ]\n",
            " [ 4.4  1.2]\n",
            " [ 7.8  9.4]\n",
            " [ 3.1  9.4]\n",
            " [ 6.4  1.4]\n",
            " [ 7.9  3.5]\n",
            " [ 5.   5.1]\n",
            " [ 9.6  6.7]\n",
            " [ 4.8  4.2]\n",
            " [ 1.8  2.9]\n",
            " [ 8.8  7.5]\n",
            " [ 9.7  1.3]\n",
            " [ 1.3  4. ]\n",
            " [ 2.7  3. ]\n",
            " [ 1.3  6.6]\n",
            " [ 1.2  3.1]\n",
            " [ 4.9  5.5]\n",
            " [ 8.8  5. ]\n",
            " [ 4.6  9.3]\n",
            " [ 6.3  7.3]\n",
            " [ 5.4  5. ]\n",
            " [ 4.4  9.4]\n",
            " [ 7.7  4.8]\n",
            " [ 6.6  3.9]\n",
            " [ 7.5  3.9]\n",
            " [ 2.1  1.6]\n",
            " [ 3.4  5.5]\n",
            " [ 6.3  2.4]\n",
            " [ 1.   6. ]\n",
            " [ 6.7  7.8]\n",
            " [ 1.5  6.3]\n",
            " [ 4.3  7.3]\n",
            " [ 4.4  6.4]\n",
            " [ 3.6  5. ]\n",
            " [ 9.3  3.5]\n",
            " [ 7.2  5.6]\n",
            " [ 4.6  1.4]\n",
            " [ 6.3  7.5]\n",
            " [ 1.3  9.9]\n",
            " [ 3.6  9.6]\n",
            " [ 4.1  5.4]\n",
            " [ 5.7  6.6]\n",
            " [ 8.3  6.9]\n",
            " [ 2.5  2.5]\n",
            " [ 6.6  5.3]\n",
            " [ 1.7  9. ]\n",
            " [ 7.7  6.7]\n",
            " [ 4.3  2.2]\n",
            " [ 4.5  4.5]\n",
            " [ 7.8  1.5]\n",
            " [ 3.8  9. ]\n",
            " [ 5.4  6.2]\n",
            " [ 3.9  6.7]\n",
            " [ 9.2  3.7]\n",
            " [ 5.7  5.2]\n",
            " [10.   2. ]\n",
            " [ 5.  10. ]\n",
            " [ 9.9  8.8]\n",
            " [ 4.4  6.8]\n",
            " [ 3.5  7.1]\n",
            " [ 6.4  7.8]\n",
            " [ 7.6  6.8]\n",
            " [ 5.9  3.5]\n",
            " [ 4.8  4.8]\n",
            " [ 4.4  3.4]\n",
            " [ 2.5  8.6]\n",
            " [ 1.3  6.4]\n",
            " [ 6.6  4.5]\n",
            " [ 4.3  6.6]\n",
            " [ 7.6  2.8]\n",
            " [ 9.2  2.8]\n",
            " [ 9.6  5.9]\n",
            " [ 6.8  9.2]\n",
            " [ 9.5  6.5]\n",
            " [ 9.5  5.4]\n",
            " [ 9.6  2. ]\n",
            " [ 4.5  2.1]\n",
            " [10.   9.7]\n",
            " [ 7.5  4.6]\n",
            " [ 4.1  4.2]\n",
            " [ 8.5  8.4]\n",
            " [ 3.5  6. ]\n",
            " [ 1.8  1.7]\n",
            " [ 4.6  6. ]\n",
            " [ 1.7  1.4]\n",
            " [ 9.5  4.4]\n",
            " [ 5.1  6.3]\n",
            " [ 6.1  4.5]\n",
            " [ 5.5  1.9]\n",
            " [ 2.3  4. ]\n",
            " [ 2.5  9.4]\n",
            " [ 1.7  2. ]\n",
            " [ 1.8  6.4]\n",
            " [ 8.8  8.6]\n",
            " [ 8.9  6.6]\n",
            " [ 7.7  7.4]\n",
            " [ 4.9  7.2]\n",
            " [ 8.9  7.5]\n",
            " [ 4.1  3.4]\n",
            " [ 9.2  5.4]\n",
            " [ 4.9  5.8]\n",
            " [ 6.7  5.3]\n",
            " [ 5.2  9.6]\n",
            " [ 8.7  4. ]\n",
            " [ 6.   4.4]\n",
            " [ 4.1  4.6]\n",
            " [ 4.3  1.9]\n",
            " [ 4.9  3.5]\n",
            " [ 8.4  1.3]\n",
            " [ 1.2  3.4]\n",
            " [ 3.2  4.2]\n",
            " [ 5.9  6.3]\n",
            " [ 2.3  5.8]\n",
            " [ 8.3  7.5]\n",
            " [ 2.9  3.7]\n",
            " [ 7.8  9.4]\n",
            " [ 4.6  7.8]\n",
            " [ 2.5  8.4]\n",
            " [ 8.8  7.8]\n",
            " [ 9.9  6.3]\n",
            " [ 1.8  4.9]\n",
            " [ 3.7  4.7]\n",
            " [ 5.3  6.8]\n",
            " [ 7.7  9.5]\n",
            " [ 5.9  5.4]\n",
            " [ 6.5  4.2]\n",
            " [ 6.6  5.3]\n",
            " [ 5.   1.6]\n",
            " [ 6.   7.6]\n",
            " [ 4.4  8.6]\n",
            " [ 4.3  7.4]\n",
            " [ 7.3  3.5]\n",
            " [ 3.9  1.8]\n",
            " [ 3.9  6.6]\n",
            " [ 4.3  4. ]\n",
            " [ 3.6  4.7]\n",
            " [ 1.8  7.7]\n",
            " [ 4.7  6. ]\n",
            " [ 9.9  4. ]\n",
            " [ 2.5  8.1]\n",
            " [ 8.   5.7]\n",
            " [ 6.   1.1]\n",
            " [ 4.2  8.1]\n",
            " [ 1.8  3.2]\n",
            " [ 1.2  3.4]\n",
            " [ 7.1  6.4]\n",
            " [ 2.1  3.4]\n",
            " [ 4.6  6.2]\n",
            " [ 3.7  4.7]\n",
            " [ 5.8  3.2]\n",
            " [ 2.5  1.8]\n",
            " [ 4.1  5.2]\n",
            " [ 4.7  8.1]\n",
            " [ 4.8 10. ]\n",
            " [ 6.   2.3]\n",
            " [ 5.5  8. ]\n",
            " [ 5.6  9.1]\n",
            " [ 1.1  7.8]\n",
            " [ 6.6  5.9]\n",
            " [ 6.3  2.5]\n",
            " [ 7.2  4.2]\n",
            " [ 3.3  4.3]\n",
            " [ 2.5  4.5]\n",
            " [ 5.1  8.8]\n",
            " [ 7.1  7.3]\n",
            " [ 3.3  2.7]\n",
            " [ 3.8  7.3]\n",
            " [ 2.8  3.8]\n",
            " [ 9.   9.3]\n",
            " [ 7.8  3.9]\n",
            " [ 8.4  1.9]\n",
            " [ 3.8  6.1]\n",
            " [ 6.1  8.2]\n",
            " [ 2.   8.6]\n",
            " [ 8.1  7.5]\n",
            " [ 8.6  6.8]\n",
            " [ 2.6  1.9]\n",
            " [ 7.5  9.7]\n",
            " [ 5.3  2.6]\n",
            " [ 5.8  4.8]\n",
            " [ 1.6  6.1]\n",
            " [ 6.   4.6]\n",
            " [ 3.9  8.5]\n",
            " [ 2.8  1.9]\n",
            " [ 7.6  3.8]\n",
            " [10.   1.6]\n",
            " [ 4.9  1.8]]\n",
            "[0. 0. 1. 0. 0. 0. 0. 0. 1. 0. 1. 0. 0. 0. 1. 0. 0. 0. 0. 0. 0. 0. 0. 0.\n",
            " 0. 1. 0. 0. 0. 0. 1. 0. 0. 1. 0. 0. 0. 0. 0. 0. 0. 0. 0. 0. 0. 0. 0. 0.\n",
            " 0. 0. 0. 0. 0. 0. 0. 0. 0. 0. 0. 0. 0. 0. 0. 0. 0. 1. 0. 0. 0. 0. 0. 0.\n",
            " 0. 0. 0. 0. 0. 0. 0. 0. 1. 0. 0. 0. 0. 0. 0. 0. 0. 0. 0. 0. 0. 0. 1. 1.\n",
            " 1. 0. 0. 0. 1. 0. 0. 1. 0. 0. 0. 0. 0. 0. 0. 0. 0. 0. 0. 0. 1. 1. 1. 0.\n",
            " 1. 0. 0. 0. 0. 0. 0. 0. 0. 0. 0. 0. 0. 0. 0. 0. 1. 0. 1. 0. 0. 1. 1. 0.\n",
            " 0. 0. 1. 0. 0. 0. 0. 0. 0. 0. 0. 0. 0. 0. 0. 0. 0. 0. 0. 0. 0. 0. 0. 0.\n",
            " 0. 0. 0. 0. 0. 0. 0. 0. 0. 0. 0. 0. 0. 0. 0. 0. 0. 0. 0. 0. 0. 0. 0. 1.\n",
            " 0. 0. 0. 0. 0. 1. 1. 0. 1. 0. 0. 0. 0. 0. 0. 0. 0. 0.]\n"
          ]
        }
      ]
    },
    {
      "cell_type": "code",
      "source": [
        "def plotData(X, y):\n",
        "    # Gragica los puntos de datos X y y en una nueva figura. Grafica los puntos de datos con * para los positivos y \n",
        "    # o para los negativos.\n",
        "    \n",
        "    # Crea una nueva figura\n",
        "    fig = pyplot.figure()\n",
        "\n",
        "    # Find Indices of Positive and Negative Examples\n",
        "    pos = y == 1\n",
        "    neg = y == 0\n",
        "\n",
        "    # Plot Examples\n",
        "    pyplot.plot(X[pos, 0], X[pos, 1], 'k*', lw=2, ms=10)\n",
        "    pyplot.plot(X[neg, 0], X[neg, 1], 'ko', mfc='y', ms=8, mec='k', mew=1)"
      ],
      "metadata": {
        "id": "0sduQFb1ADkh"
      },
      "execution_count": 91,
      "outputs": []
    },
    {
      "cell_type": "code",
      "source": [
        "plotData(X, y)\n",
        "# adiciona etiquetas para los ejes\n",
        "pyplot.xlabel('Calificación Examen 1')\n",
        "pyplot.ylabel('Calificación Examen 2')\n",
        "pyplot.legend(['Admitido', 'No admitido'])\n",
        "pass"
      ],
      "metadata": {
        "colab": {
          "base_uri": "https://localhost:8080/",
          "height": 279
        },
        "id": "6FMf_2z5AJWt",
        "outputId": "40f1a75e-549f-43b1-b8b3-3451e0576d9b"
      },
      "execution_count": 92,
      "outputs": [
        {
          "output_type": "display_data",
          "data": {
            "text/plain": [
              "<Figure size 432x288 with 1 Axes>"
            ],
            "image/png": "[encoded data removed]"
          },
          "metadata": {
            "needs_background": "light"
          }
        }
      ]
    },
    {
      "cell_type": "code",
      "source": [
        "def sigmoid(z):\n",
        "    # Calcula la sigmoide de una entrada z\n",
        "    # convierte la intrada a un arreglo numpy\n",
        "    z = np.array(z)\n",
        "  \n",
        "    g = np.zeros(z.shape)\n",
        "\n",
        "    g = 1 / (1 + np.exp(-z))\n",
        "\n",
        "    return g"
      ],
      "metadata": {
        "id": "vLOJc4TaAMMg"
      },
      "execution_count": 93,
      "outputs": []
    },
    {
      "cell_type": "code",
      "source": [
        "# Prueba la implementacion de la funcion sigmoid\n",
        "z = 21\n",
        "g = sigmoid(z)\n",
        "\n",
        "print('g(', z, ') = ', g)"
      ],
      "metadata": {
        "colab": {
          "base_uri": "https://localhost:8080/"
        },
        "id": "EVP7UskgAO7V",
        "outputId": "3cdd187f-e44d-413a-bb12-a4e7a9edca96"
      },
      "execution_count": 94,
      "outputs": [
        {
          "output_type": "stream",
          "name": "stdout",
          "text": [
            "g( 21 ) =  0.9999999992417439\n"
          ]
        }
      ]
    },
    {
      "cell_type": "code",
      "source": [
        "# Configurar la matriz adecuadamente, y agregar una columna de unos que corresponde al termino de intercepción. \n",
        "m, n = X.shape\n",
        "# Agraga el termino de intercepción a A\n",
        "X = np.concatenate([np.ones((m, 1)), X], axis=1)"
      ],
      "metadata": {
        "id": "TL6_Dyu0ARqa"
      },
      "execution_count": 95,
      "outputs": []
    },
    {
      "cell_type": "code",
      "source": [
        "def calcularCosto(theta, X, y):\n",
        "    # Inicializar algunos valores utiles\n",
        "    m = y.size  # numero de ejemplos de entrenamiento\n",
        "\n",
        "    J = 0\n",
        "    h = sigmoid(X.dot(theta.T))\n",
        "    J = (1 / m) * np.sum(-y.dot(np.log(h)) - (1 - y).dot(np.log(1 - h)))\n",
        "    \n",
        "    return J"
      ],
      "metadata": {
        "id": "JPDKVbX8ASi0"
      },
      "execution_count": 96,
      "outputs": []
    },
    {
      "cell_type": "code",
      "source": [
        "def descensoGradiente(theta, X, y, alpha, num_iters):\n",
        "    # Inicializa algunos valores\n",
        "    m = y.shape[0] # numero de ejemplos de entrenamiento\n",
        "    \n",
        "    # realiza una copia de theta, el cual será acutalizada por el descenso por el gradiente\n",
        "    theta = theta.copy()\n",
        "    J_history = []\n",
        "    \n",
        "    for i in range(num_iters):\n",
        "        h = sigmoid(X.dot(theta.T))\n",
        "        theta = theta - (alpha / m) * (h - y).dot(X)\n",
        "       \n",
        "        J_history.append(calcularCosto(theta, X, y))\n",
        "    return theta, J_history"
      ],
      "metadata": {
        "id": "e-LSwcQhAUyi"
      },
      "execution_count": 97,
      "outputs": []
    },
    {
      "cell_type": "code",
      "source": [
        "# Elegir algun valor para alpha (probar varias alternativas)\n",
        "alpha = 0.001\n",
        "num_iters = 100000\n",
        "\n",
        "# inicializa theta y ejecuta el descenso por el gradiente\n",
        "theta = np.zeros(3)\n",
        "theta, J_history = descensoGradiente(theta, X, y, alpha, num_iters)\n",
        "\n",
        "# Grafica la convergencia del costo\n",
        "pyplot.plot(np.arange(len(J_history)), J_history, lw=2)\n",
        "pyplot.xlabel('Numero de iteraciones')\n",
        "pyplot.ylabel('Costo J')\n",
        "\n",
        "# Muestra los resultados del descenso por el gradiente\n",
        "print('theta calculado por el descenso por el gradiente: {:s}'.format(str(theta)))\n",
        "\n",
        "# verificar si ingresa o no a la universidad\n",
        "X_array = [1, 7.8, 6.1]\n",
        "aprueba = sigmoid(np.dot(X_array, theta))   # Se debe cambiar esto\n",
        "\n",
        "print('Un estudiante con nota del examen 1: 80 y nota del examen 2: 46 (usando el descenso por el gradiente):{:.0f}'.format(aprueba))"
      ],
      "metadata": {
        "colab": {
          "base_uri": "https://localhost:8080/",
          "height": 314
        },
        "id": "-KfHOfT7AXQl",
        "outputId": "b3cc09cf-b1af-468d-fad2-fdecb8e5f6b7"
      },
      "execution_count": 98,
      "outputs": [
        {
          "output_type": "stream",
          "name": "stdout",
          "text": [
            "theta calculado por el descenso por el gradiente: [-4.93161736  0.35684906  0.18573782]\n",
            "Un estudiante con nota del examen 1: 80 y nota del examen 2: 46 (usando el descenso por el gradiente):0\n"
          ]
        },
        {
          "output_type": "display_data",
          "data": {
            "text/plain": [
              "<Figure size 432x288 with 1 Axes>"
            ],
            "image/png": "[encoded data removed]"
          },
          "metadata": {
            "needs_background": "light"
          }
        }
      ]
    },
    {
      "cell_type": "code",
      "source": [
        "def costFunction(theta, X, y):\n",
        "    # Inicializar algunos valores utiles\n",
        "    m = y.size  # numero de ejemplos de entrenamiento\n",
        "\n",
        "    J = 0\n",
        "    grad = np.zeros(theta.shape)\n",
        "\n",
        "    h = sigmoid(X.dot(theta.T))\n",
        "    \n",
        "    J = (1 / m) * np.sum(-y.dot(np.log(h)) - (1 - y).dot(np.log(1 - h)))\n",
        "    grad = (1 / m) * (h - y).dot(X)\n",
        "    \n",
        "    return J, grad"
      ],
      "metadata": {
        "id": "nLSlvB8mAaoW"
      },
      "execution_count": 99,
      "outputs": []
    },
    {
      "cell_type": "code",
      "source": [
        "# Inicializacion de parametros de ajuste\n",
        "initial_theta = np.zeros(n+1)\n",
        "print(initial_theta)\n",
        "cost, grad = costFunction(initial_theta, X, y)\n",
        "\n",
        "print('Costo en theta inicial (zeros): {:.3f}'.format(cost))\n",
        "print('Costo esperado (aproximado): 0.693\\n')\n",
        "print(grad)\n",
        "print('Gradiente en theta inicial (zeros):')\n",
        "print('\\t[{:.4f}, {:.4f}, {:.4f}]'.format(*grad))\n",
        "print('Gradiente esperado (aproximado):\\n\\t[-0.1000, -12.0092, -11.2628]\\n')"
      ],
      "metadata": {
        "colab": {
          "base_uri": "https://localhost:8080/"
        },
        "id": "usMDW-oIAc-g",
        "outputId": "82779216-aca8-456b-9ec9-0feca815d4c6"
      },
      "execution_count": 100,
      "outputs": [
        {
          "output_type": "stream",
          "name": "stdout",
          "text": [
            "[0. 0. 0.]\n",
            "Costo en theta inicial (zeros): 0.693\n",
            "Costo esperado (aproximado): 0.693\n",
            "\n",
            "[0.37142857 1.57880952 1.75785714]\n",
            "Gradiente en theta inicial (zeros):\n",
            "\t[0.3714, 1.5788, 1.7579]\n",
            "Gradiente esperado (aproximado):\n",
            "\t[-0.1000, -12.0092, -11.2628]\n",
            "\n"
          ]
        }
      ]
    },
    {
      "cell_type": "code",
      "source": [
        "# Calcula y muestra el costo y el gradiente con valores de theta diferentes a cero\n",
        "\n",
        "test_theta = np.array([-24, 0.2, 0.2])\n",
        "#test_theta = np.array([-11.74749157, 0.09927308, 0.09316497])\n",
        "print(test_theta)\n",
        "cost, grad = costFunction(test_theta, X, y)\n",
        "\n",
        "print('Costo en theta prueba: {:.3f}'.format(cost))\n",
        "print('Costo esperado (aproximado): 0.218\\n')\n",
        "\n",
        "print('Gradiente en theta prueba:')\n",
        "print('\\t[{:.3f}, {:.3f}, {:.3f}]'.format(*grad))\n",
        "print('Gradiente esperado (aproximado):\\n\\t[0.043, 2.566, 2.647]')"
      ],
      "metadata": {
        "colab": {
          "base_uri": "https://localhost:8080/"
        },
        "id": "_D0eQM4-AklW",
        "outputId": "64129d20-1599-4caf-e2db-472a99826eab"
      },
      "execution_count": 101,
      "outputs": [
        {
          "output_type": "stream",
          "name": "stdout",
          "text": [
            "[-24.    0.2   0.2]\n",
            "Costo en theta prueba: 2.660\n",
            "Costo esperado (aproximado): 0.218\n",
            "\n",
            "Gradiente en theta prueba:\n",
            "\t[-0.129, -1.119, -1.011]\n",
            "Gradiente esperado (aproximado):\n",
            "\t[0.043, 2.566, 2.647]\n"
          ]
        }
      ]
    },
    {
      "cell_type": "code",
      "source": [
        "# Establecer las opciones para optimize.minimize\n",
        "options= {'maxiter': 1000}\n",
        "\n",
        "# revisar la documentacion de scipy's optimize.minimize para mayor descripcion de los parametros\n",
        "# La funcion devuekve un objeto `OptimizeResult`\n",
        "# Se utiliza el algoritmo de Newton truncado para la optimización.\n",
        "res = optimize.minimize(costFunction,\n",
        "                        initial_theta,\n",
        "                        (X, y),\n",
        "                        jac=True,\n",
        "                        method='TNC',\n",
        "                        options=options)\n",
        "\n",
        "# la propiedad fun del objeto devuelto por `OptimizeResult`\n",
        "# contiene el valor del costFunction de un theta optimizado\n",
        "cost = res.fun\n",
        "\n",
        "# Theta optimizada esta en la propiedad x\n",
        "theta = res.x\n",
        "\n",
        "# Imprimir theta en la pantalla\n",
        "print('Costo con un valor de theta encontrado por optimize.minimize: {:.3f}'.format(cost))\n",
        "print('Costo esperado (aproximado): 0.203\\n');\n",
        "\n",
        "print('theta:')\n",
        "print('\\t[{:.3f}, {:.3f}, {:.3f}]'.format(*theta))\n",
        "print('Theta esperado (aproximado):\\n\\t[-25.161, 0.206, 0.201]')"
      ],
      "metadata": {
        "colab": {
          "base_uri": "https://localhost:8080/"
        },
        "id": "3TBO6vE_AnvI",
        "outputId": "e2616476-5734-4a0b-e22a-60a7f11ca990"
      },
      "execution_count": 102,
      "outputs": [
        {
          "output_type": "stream",
          "name": "stdout",
          "text": [
            "Costo con un valor de theta encontrado por optimize.minimize: 0.011\n",
            "Costo esperado (aproximado): 0.203\n",
            "\n",
            "theta:\n",
            "\t[-119.132, 7.880, 7.945]\n",
            "Theta esperado (aproximado):\n",
            "\t[-25.161, 0.206, 0.201]\n"
          ]
        },
        {
          "output_type": "stream",
          "name": "stderr",
          "text": [
            "/usr/local/lib/python3.7/dist-packages/ipykernel_launcher.py:10: RuntimeWarning: divide by zero encountered in log\n",
            "  # Remove the CWD from sys.path while we load stuff.\n"
          ]
        }
      ]
    },
    {
      "cell_type": "code",
      "source": [
        "def plotDecisionBoundary(plotData, theta, X, y):\n",
        "    \"\"\"\n",
        "    Grafica los puntos X y Y en una nueva figura con un limite de desicion definido por theta.\n",
        "    the data points X and y into a new figure with the decision boundary defined by theta.\n",
        "    Grafica los puntos con * para los ejemplos positivos y con o para los ejemplos negativos.\n",
        "    \"\"\"\n",
        "    # hacer que theta sera un arreglo numpy\n",
        "    theta = np.array(theta)\n",
        "\n",
        "    # Graficar los datos (recordar que la primera columna en X es la intercepción)\n",
        "    plotData(X[:, 1:3], y)\n",
        "\n",
        "    if X.shape[1] <= 3:\n",
        "        # Solo se requieren 2 puntos para definir una linea, para lo cual se eligen dos puntos finales\n",
        "        plot_x = np.array([np.min(X[:, 1]) - 2, np.max(X[:, 1]) + 2])\n",
        "\n",
        "        # Calcular la línea límite de decisión\n",
        "        plot_y = (-1. / theta[2]) * (theta[1] * plot_x + theta[0])\n",
        "\n",
        "        print(plot_x)\n",
        "        print(plot_y)\n",
        "        # Graficar y ajustar los ejes para una mejor visualización\n",
        "        pyplot.plot(plot_x, plot_y)\n",
        "\n",
        "        # Leyenda, especifica para el ejercicio\n",
        "        pyplot.legend(['Admitido', 'No admitido', 'Limite de decisión'])\n",
        "        pyplot.xlim([1, 13])\n",
        "        pyplot.ylim([1, 13])\n",
        "    else:\n",
        "        # Rango de la grilla\n",
        "        u = np.linspace(-1, 1.5, 50)\n",
        "        v = np.linspace(-1, 1.5, 50)\n",
        "\n",
        "        z = np.zeros((u.size, v.size))\n",
        "        # Evalua z = theta*x sobre la grilla\n",
        "        for i, ui in enumerate(u):\n",
        "            for j, vj in enumerate(v):\n",
        "                z[i, j] = np.dot(mapFeature(ui, vj), theta)\n",
        "\n",
        "        z = z.T  # importante transponer z antes de llamar al contorno\n",
        "        # print(z)\n",
        "\n",
        "        # Plot z = 0\n",
        "        pyplot.contour(u, v, z, levels=[0], linewidths=2, colors='g')\n",
        "        pyplot.contourf(u, v, z, levels=[np.min(z), 0, np.max(z)], cmap='Greens', alpha=0.4)"
      ],
      "metadata": {
        "id": "UK9VcVLWArNO"
      },
      "execution_count": 103,
      "outputs": []
    },
    {
      "cell_type": "code",
      "source": [
        "#Graficar limites\n",
        "plotDecisionBoundary(plotData, theta, X, y)"
      ],
      "metadata": {
        "colab": {
          "base_uri": "https://localhost:8080/",
          "height": 300
        },
        "id": "BvY3ym-bA22u",
        "outputId": "50c17c3e-8d65-4036-fcfd-3f5978b2bae4"
      },
      "execution_count": 104,
      "outputs": [
        {
          "output_type": "stream",
          "name": "stdout",
          "text": [
            "[-1. 12.]\n",
            "[15.98622629  3.09251397]\n"
          ]
        },
        {
          "output_type": "display_data",
          "data": {
            "text/plain": [
              "<Figure size 432x288 with 1 Axes>"
            ],
            "image/png": "[encoded data removed]"
          },
          "metadata": {
            "needs_background": "light"
          }
        }
      ]
    },
    {
      "cell_type": "code",
      "source": [
        "#defincion de funcion para predecir si la etiqueta es 0 o 1 mediante regresión logística aprendida\n",
        "def predict(theta, X):\n",
        "    \"\"\"\n",
        "    Calcula las predicciones para X usando un umbral en 0.5 (es decir, si sigmoide (theta.T * x)> = 0.5, predice 1)\n",
        "    \"\"\"\n",
        "    m = X.shape[0] # Numero de ejemplo de entrenamiento\n",
        "\n",
        "    p = np.zeros(m)\n",
        "\n",
        "    p = np.round(sigmoid(X.dot(theta.T)))\n",
        "    return p"
      ],
      "metadata": {
        "id": "0nKuvCsLIpL9"
      },
      "execution_count": 105,
      "outputs": []
    },
    {
      "cell_type": "code",
      "source": [
        "#Predice la probabilidad de:\n",
        "#pasar a la siguiente ronda para un participante con una calificacion del juez 1 de 9.1\n",
        "#pasar a la siguiente ronda para un participante con una calificacion del juez 2 de 8.8\n",
        "prob = sigmoid(np.dot([1, 9.1, 8.8], theta))\n",
        "print('Para un paritipante con calificaciones de: juez 1: 9.1 y juez 2: 8.8, se predice una probabilidad de pasar a la siguiente ronde de: {:.3f}%'.format(prob))\n",
        "print('Valor esperado: 0.775 +/- 0.002\\n')\n",
        "\n",
        "# Compute accuracy on our training set\n",
        "p = predict(theta, X)\n",
        "print('Precisión de entrenamiento: {:.2f} %'.format(np.mean(p == y) * 100))\n",
        "print('Precisión esperada (aproximadamente): 89.00 %')"
      ],
      "metadata": {
        "colab": {
          "base_uri": "https://localhost:8080/"
        },
        "id": "4lq6RyRSI2TV",
        "outputId": "249e960b-6bdc-49e7-c5b5-5be77188e7f2"
      },
      "execution_count": 109,
      "outputs": [
        {
          "output_type": "stream",
          "name": "stdout",
          "text": [
            "Para un paritipante con calificaciones de: juez 1: 9.1 y juez 2: 8.8, se predice una probabilidad de pasar a la siguiente ronde de: 1.000%\n",
            "Valor esperado: 0.775 +/- 0.002\n",
            "\n",
            "Precisión de entrenamiento: 100.00 %\n",
            "Precisión esperada (aproximadamente): 89.00 %\n"
          ]
        }
      ]
    }
  ]
}